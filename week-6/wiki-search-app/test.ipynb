{
 "cells": [
  {
   "cell_type": "code",
   "execution_count": 44,
   "metadata": {},
   "outputs": [],
   "source": [
    "import requests"
   ]
  },
  {
   "cell_type": "code",
   "execution_count": 45,
   "metadata": {},
   "outputs": [
    {
     "data": {
      "text/plain": [
       "'https://en.wikipedia.org/w/rest.php/v1/search/page?q=rss&limit=100'"
      ]
     },
     "execution_count": 45,
     "metadata": {},
     "output_type": "execute_result"
    }
   ],
   "source": [
    "# provided by user\n",
    "what_to_search = 'rss'\n",
    "how_many_results = 100\n",
    "\n",
    "url = f'https://en.wikipedia.org/w/rest.php/v1/search/page?q={what_to_search}&limit={how_many_results}'\n",
    "\n",
    "url"
   ]
  },
  {
   "cell_type": "code",
   "execution_count": 46,
   "metadata": {},
   "outputs": [
    {
     "data": {
      "text/plain": [
       "<Response [200]>"
      ]
     },
     "execution_count": 46,
     "metadata": {},
     "output_type": "execute_result"
    }
   ],
   "source": [
    "response = requests.get(url)\n",
    "response"
   ]
  },
  {
   "cell_type": "code",
   "execution_count": 57,
   "metadata": {},
   "outputs": [
    {
     "data": {
      "text/plain": [
       "200"
      ]
     },
     "execution_count": 57,
     "metadata": {},
     "output_type": "execute_result"
    },
    {
     "name": "stdout",
     "output_type": "stream",
     "text": [
      "RSS\n",
      "Rashtriya Swayamsevak Sangh\n",
      "News aggregator\n",
      "K. B. Hedgewar\n",
      "RSS (disambiguation)\n",
      "Sangh Parivar\n",
      "Nathuram Godse\n",
      "Glossary of blogging\n",
      "RSS Resolution\n",
      "Comparison of feed aggregators\n",
      "Mohan Bhagwat\n",
      "RSS Guard\n",
      "M. S. Golwalkar\n",
      "Rajendra Singh (RSS)\n",
      "RSS enclosure\n",
      "Web feed\n",
      "RSS Endeavour\n",
      "RSS Tenacious\n",
      "RRS Discovery\n",
      "RSS Intrepid\n",
      "Media RSS\n",
      "Tiny Tiny RSS\n",
      "RSS Persistence\n",
      "RSS Victory\n",
      "Podcast\n",
      "RSS Supreme\n",
      "Atom (web standard)\n",
      "QuiteRSS\n",
      "RSS Steadfast\n",
      "Bharatiya Janata Party\n",
      "Invincible-class submarine\n",
      "RSS Endurance\n",
      "Aggregator\n",
      "RSS Stalwart\n",
      "RSS Valour\n",
      "Dattatreya Hosabale\n",
      "RSS Bandit\n",
      "Residual sum of squares\n",
      "RSS Vigilance\n",
      "Safari (web browser)\n",
      "History of podcasting\n",
      "Republic of Singapore Navy\n",
      "RSS Formidable\n",
      "Sridhar Vembu\n",
      "Akhil Bharatiya Vidyarthi Parishad\n",
      "Hindu nationalism\n",
      "RSS editor\n",
      "Bhaiyyaji Joshi\n",
      "List of Sarsanghchalaks of the Rashtriya Swayamsevak Sangh\n",
      "RSS Advisory Board\n",
      "New Shepard\n",
      "Web syndication\n",
      "RSS Courageous\n",
      "Narendra Modi\n",
      "RSS Invincible\n",
      "Akhand Bharat\n",
      "F-test\n",
      "2016–17 targeted killings in Punjab, India\n",
      "RSS Valiant\n",
      "List of ships of the Republic of Singapore Navy\n",
      "World Wide Web\n",
      "RSS Endurance (207)\n",
      "Web directory\n",
      "RSS Vigour\n",
      "Robert Baden-Powell, 1st Baron Baden-Powell\n",
      "RSS Racing\n",
      "GeoRSS\n",
      "OpenSearch\n",
      "RSS Persistence (209)\n",
      "Email bankruptcy\n",
      "Bharatiya Jana Sangh\n",
      "History of web syndication technology\n",
      "L. K. Advani\n",
      "Formidable-class frigate\n",
      "Blog\n",
      "Hindu Makkal Katchi\n",
      "BitTorrent\n",
      "Panchjanya (magazine)\n",
      "Dinanath Batra\n",
      "My Yahoo\n",
      "JetBrains\n",
      "Madhukar Rao Bhagwat\n",
      "RSS tracking\n",
      "Rastriya Samachar Samiti\n",
      "UserLand Software\n",
      "RFA Sir Lancelot\n",
      "K. S. Sudarshan\n",
      "RSSOwl\n",
      "RSS Resolution (208)\n",
      "RSS-DEV Working Group\n",
      "Resident set size\n",
      "RSS-40 Buran\n",
      "Hindutva\n",
      "List of Rashtriya Swayamsevak Sangh members\n",
      "Vallabhbhai Patel\n",
      "GS1 DataBar Coupon\n",
      "RSS Panglima\n",
      "RSS TV\n",
      "List of equipment of the Republic of Singapore Navy\n",
      "RSS Vengeance\n"
     ]
    }
   ],
   "source": [
    "response.status_code\n",
    "data = response.json()  # read as json data\n",
    "# data['pages'][0]['title']\n",
    "# data['pages'][1]['title']\n",
    "# data['pages'][2]['title']\n",
    "for i in range(len(data['pages'])):\n",
    "  print(data['pages'][i]['title'])"
   ]
  }
 ],
 "metadata": {
  "kernelspec": {
   "display_name": "Python 3",
   "language": "python",
   "name": "python3"
  },
  "language_info": {
   "codemirror_mode": {
    "name": "ipython",
    "version": 3
   },
   "file_extension": ".py",
   "mimetype": "text/x-python",
   "name": "python",
   "nbconvert_exporter": "python",
   "pygments_lexer": "ipython3",
   "version": "3.12.6"
  }
 },
 "nbformat": 4,
 "nbformat_minor": 2
}
