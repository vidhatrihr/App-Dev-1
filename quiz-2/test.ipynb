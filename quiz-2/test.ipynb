{
 "cells": [
  {
   "cell_type": "markdown",
   "metadata": {},
   "source": [
    "## PYQ 2022"
   ]
  },
  {
   "cell_type": "code",
   "execution_count": 3,
   "metadata": {},
   "outputs": [
    {
     "name": "stdout",
     "output_type": "stream",
     "text": [
      "A student needs to complete foundation level to get to the {{c2}}\n",
      "A student needs to complete foundation level to get to the diploma\n"
     ]
    }
   ],
   "source": [
    "from string import Template as T1\n",
    "from jinja2 import Template as T2\n",
    "\n",
    "temp = \"A student needs to complete $c1 level to get to the {{c2}}\"\n",
    "\n",
    "temp = T1(temp)\n",
    "out = temp.substitute({'c1': 'foundation', 'c2': 'diploma'})\n",
    "print(out)\n",
    "out = T2(out)\n",
    "print(out.render({'c2': 'diploma'}))"
   ]
  },
  {
   "cell_type": "code",
   "execution_count": 1,
   "metadata": {},
   "outputs": [
    {
     "name": "stdout",
     "output_type": "stream",
     "text": [
      "[1, 2, 7, 14]\n"
     ]
    }
   ],
   "source": [
    "def modify(func):\n",
    "  def wrapper(n):\n",
    "    my_list = []\n",
    "    for i in range(1, n+1):\n",
    "      if n % i == 0:\n",
    "        my_list.append(i)\n",
    "    return my_list\n",
    "  return wrapper\n",
    "\n",
    "\n",
    "@modify\n",
    "def my_function(n):\n",
    "  my_list = []\n",
    "  for i in range(1, n+1):\n",
    "    if i % 2 == 0:\n",
    "      my_list.append(i)\n",
    "  return my_list\n",
    "\n",
    "\n",
    "print(my_function(14))"
   ]
  }
 ],
 "metadata": {
  "kernelspec": {
   "display_name": "Python 3",
   "language": "python",
   "name": "python3"
  },
  "language_info": {
   "codemirror_mode": {
    "name": "ipython",
    "version": 3
   },
   "file_extension": ".py",
   "mimetype": "text/x-python",
   "name": "python",
   "nbconvert_exporter": "python",
   "pygments_lexer": "ipython3",
   "version": "3.12.6"
  }
 },
 "nbformat": 4,
 "nbformat_minor": 2
}
