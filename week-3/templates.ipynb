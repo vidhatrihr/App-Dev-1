{
 "cells": [
  {
   "cell_type": "markdown",
   "metadata": {},
   "source": [
    "# Templating"
   ]
  },
  {
   "cell_type": "code",
   "execution_count": 4,
   "metadata": {},
   "outputs": [
    {
     "name": "stdout",
     "output_type": "stream",
     "text": [
      "My name is vidu, I live in hbh.\n",
      "My name is vidu, I live in hbh\n"
     ]
    }
   ],
   "source": [
    "name = 'vidu'\n",
    "place = 'hbh'\n",
    "\n",
    "print('My name is '+name+', I live in '+place+'.')\n",
    "print(f'My name is {name}, I live in {place}')"
   ]
  },
  {
   "cell_type": "code",
   "execution_count": 5,
   "metadata": {},
   "outputs": [
    {
     "name": "stdout",
     "output_type": "stream",
     "text": [
      "My name is Vidu, I live in hbh.\n",
      "My name is bad V, I live in hbh\n"
     ]
    }
   ],
   "source": [
    "name = 'vidu'\n",
    "place = 'hbh'\n",
    "\n",
    "print('My name is '+name.capitalize()+', I live in '+place+'.')\n",
    "print(f'My name is bad {name[0].upper()}, I live in {place}')"
   ]
  },
  {
   "cell_type": "code",
   "execution_count": 6,
   "metadata": {},
   "outputs": [
    {
     "data": {
      "text/plain": [
       "'A'"
      ]
     },
     "execution_count": 6,
     "metadata": {},
     "output_type": "execute_result"
    },
    {
     "data": {
      "text/plain": [
       "'A'"
      ]
     },
     "execution_count": 6,
     "metadata": {},
     "output_type": "execute_result"
    }
   ],
   "source": [
    "word = 'apple'\n",
    "\n",
    "word[0].upper()\n",
    "word.upper()[0]"
   ]
  },
  {
   "cell_type": "code",
   "execution_count": 7,
   "metadata": {},
   "outputs": [
    {
     "data": {
      "text/plain": [
       "'I am Rahul, I live in Bhadohi.'"
      ]
     },
     "execution_count": 7,
     "metadata": {},
     "output_type": "execute_result"
    },
    {
     "data": {
      "text/plain": [
       "'I am Harikesh, I live in Bhadohi.'"
      ]
     },
     "execution_count": 7,
     "metadata": {},
     "output_type": "execute_result"
    },
    {
     "data": {
      "text/plain": [
       "'I am Vidu, I live in Hbh.'"
      ]
     },
     "execution_count": 7,
     "metadata": {},
     "output_type": "execute_result"
    }
   ],
   "source": [
    "name = 'rahul'\n",
    "place = 'bhadohi'\n",
    "f'I am {name.capitalize()}, I live in {place.capitalize()}.'\n",
    "\n",
    "name = 'harikesh'\n",
    "place = 'bhadohi'\n",
    "f'I am {name.capitalize()}, I live in {place.capitalize()}.'\n",
    "\n",
    "name = 'vidu'\n",
    "place = 'hbh'\n",
    "f'I am {name.capitalize()}, I live in {place.capitalize()}.'"
   ]
  },
  {
   "cell_type": "code",
   "execution_count": 8,
   "metadata": {},
   "outputs": [
    {
     "data": {
      "text/plain": [
       "'I am Rahul, I live in Bhadohi.'"
      ]
     },
     "execution_count": 8,
     "metadata": {},
     "output_type": "execute_result"
    },
    {
     "data": {
      "text/plain": [
       "'I am Harikesh, I live in Bhadohi.'"
      ]
     },
     "execution_count": 8,
     "metadata": {},
     "output_type": "execute_result"
    },
    {
     "data": {
      "text/plain": [
       "'I am Vidu, I live in Hbh.'"
      ]
     },
     "execution_count": 8,
     "metadata": {},
     "output_type": "execute_result"
    }
   ],
   "source": [
    "def intro(name, place):\n",
    "  return f'I am {name.capitalize()}, I live in {place.capitalize()}.'\n",
    "\n",
    "\n",
    "intro(name='rahul', place='bhadohi')\n",
    "intro(name='harikesh', place='bhadohi')\n",
    "intro(name='vidu', place='hbh')"
   ]
  },
  {
   "cell_type": "markdown",
   "metadata": {},
   "source": [
    "# string.Template"
   ]
  },
  {
   "cell_type": "code",
   "execution_count": 9,
   "metadata": {},
   "outputs": [
    {
     "data": {
      "text/plain": [
       "'I am Vidu, I live in Hbh.'"
      ]
     },
     "execution_count": 9,
     "metadata": {},
     "output_type": "execute_result"
    },
    {
     "data": {
      "text/plain": [
       "'I am rahul, I live in bhadohi.'"
      ]
     },
     "execution_count": 9,
     "metadata": {},
     "output_type": "execute_result"
    },
    {
     "data": {
      "text/plain": [
       "'I am harikesh, I live in bhadohi.'"
      ]
     },
     "execution_count": 9,
     "metadata": {},
     "output_type": "execute_result"
    }
   ],
   "source": [
    "from string import Template   # here Template is a class\n",
    "\n",
    "intro_template = Template('I am $name, I live in $place.')\n",
    "intro_template.substitute(name='vidu'.capitalize(), place='hbh'.capitalize())\n",
    "intro_template.substitute(name='rahul', place='bhadohi')\n",
    "intro_template.substitute(name='harikesh', place='bhadohi')"
   ]
  },
  {
   "cell_type": "code",
   "execution_count": 17,
   "metadata": {},
   "outputs": [
    {
     "data": {
      "text/plain": [
       "'I am Rahul, I live in Bhadohi.'"
      ]
     },
     "execution_count": 17,
     "metadata": {},
     "output_type": "execute_result"
    },
    {
     "data": {
      "text/plain": [
       "'I am Harikesh, I live in Bhadohi.'"
      ]
     },
     "execution_count": 17,
     "metadata": {},
     "output_type": "execute_result"
    },
    {
     "data": {
      "text/plain": [
       "'I am Vidu, I live in Hbh.'"
      ]
     },
     "execution_count": 17,
     "metadata": {},
     "output_type": "execute_result"
    }
   ],
   "source": [
    "def intro(name, place):\n",
    "  from string import Template\n",
    "  intro_template = Template('I am $name, I live in $place.')\n",
    "  return intro_template.substitute(name=name.capitalize(), place=place.capitalize())\n",
    "\n",
    "\n",
    "intro(name='rahul', place='bhadohi')\n",
    "intro(name='harikesh', place='bhadohi')\n",
    "intro(name='vidu', place='hbh')"
   ]
  },
  {
   "cell_type": "markdown",
   "metadata": {},
   "source": [
    "# Jinja2"
   ]
  },
  {
   "cell_type": "code",
   "execution_count": 11,
   "metadata": {},
   "outputs": [
    {
     "data": {
      "text/plain": [
       "'I am Rahul, I live in Bhadohi'"
      ]
     },
     "execution_count": 11,
     "metadata": {},
     "output_type": "execute_result"
    },
    {
     "data": {
      "text/plain": [
       "'I am harikesh, I live in bhadohi'"
      ]
     },
     "execution_count": 11,
     "metadata": {},
     "output_type": "execute_result"
    },
    {
     "data": {
      "text/plain": [
       "'I am vidu, I live in hbh'"
      ]
     },
     "execution_count": 11,
     "metadata": {},
     "output_type": "execute_result"
    }
   ],
   "source": [
    "from jinja2 import Template\n",
    "\n",
    "intro_template = Template('I am {{name}}, I live in {{place}}')\n",
    "intro_template.render(name='rahul'.capitalize(), place='bhadohi'.capitalize())\n",
    "intro_template.render(name='harikesh', place='bhadohi')\n",
    "intro_template.render(name='vidu', place='hbh')"
   ]
  },
  {
   "cell_type": "code",
   "execution_count": 14,
   "metadata": {},
   "outputs": [
    {
     "data": {
      "text/plain": [
       "'I am Rahul, I live in Bhadohi'"
      ]
     },
     "execution_count": 14,
     "metadata": {},
     "output_type": "execute_result"
    },
    {
     "data": {
      "text/plain": [
       "'I am Harikesh, I live in Bhadohi'"
      ]
     },
     "execution_count": 14,
     "metadata": {},
     "output_type": "execute_result"
    },
    {
     "data": {
      "text/plain": [
       "'I am Vidu, I live in Hbh'"
      ]
     },
     "execution_count": 14,
     "metadata": {},
     "output_type": "execute_result"
    }
   ],
   "source": [
    "def intro(name, place):\n",
    "  from jinja2 import Template\n",
    "  intro_template = Template('I am {{name}}, I live in {{place}}')\n",
    "  return intro_template.render(name=name.capitalize(), place=place.capitalize())\n",
    "\n",
    "\n",
    "intro(name='rahul', place='bhadohi')\n",
    "intro(name='harikesh', place='bhadohi')\n",
    "intro(name='vidu', place='hbh')"
   ]
  },
  {
   "cell_type": "markdown",
   "metadata": {},
   "source": [
    "# HTML Templating"
   ]
  },
  {
   "cell_type": "code",
   "execution_count": 18,
   "metadata": {},
   "outputs": [
    {
     "data": {
      "text/plain": [
       "'<h1>I am Vidu</h1>'"
      ]
     },
     "execution_count": 18,
     "metadata": {},
     "output_type": "execute_result"
    }
   ],
   "source": [
    "name = 'Vidu'\n",
    "f'<h1>I am {name}</h1>'"
   ]
  },
  {
   "cell_type": "code",
   "execution_count": 20,
   "metadata": {},
   "outputs": [
    {
     "data": {
      "text/plain": [
       "'<h1>I am vidu</h1>'"
      ]
     },
     "execution_count": 20,
     "metadata": {},
     "output_type": "execute_result"
    },
    {
     "data": {
      "text/plain": [
       "'<h2>I live in hbh</h2>'"
      ]
     },
     "execution_count": 20,
     "metadata": {},
     "output_type": "execute_result"
    }
   ],
   "source": [
    "def h1(text):\n",
    "  return f'<h1>{text}</h1>'\n",
    "\n",
    "\n",
    "def h2(text):\n",
    "  return f'<h2>{text}</h2>'\n",
    "\n",
    "\n",
    "h1('I am vidu')\n",
    "h2('I live in hbh')"
   ]
  },
  {
   "cell_type": "code",
   "execution_count": 22,
   "metadata": {},
   "outputs": [
    {
     "data": {
      "text/plain": [
       "'<div>Welcome to my blog</div>'"
      ]
     },
     "execution_count": 22,
     "metadata": {},
     "output_type": "execute_result"
    }
   ],
   "source": [
    "def div(text):\n",
    "  return f'<div>{text}</div>'\n",
    "\n",
    "\n",
    "div('Welcome to my blog')"
   ]
  },
  {
   "cell_type": "code",
   "execution_count": 27,
   "metadata": {},
   "outputs": [
    {
     "data": {
      "text/plain": [
       "'<div></div>'"
      ]
     },
     "execution_count": 27,
     "metadata": {},
     "output_type": "execute_result"
    },
    {
     "data": {
      "text/plain": [
       "'<h1>Good night</h1>'"
      ]
     },
     "execution_count": 27,
     "metadata": {},
     "output_type": "execute_result"
    },
    {
     "data": {
      "text/plain": [
       "'<div><h1>Good morning</h1></div>'"
      ]
     },
     "execution_count": 27,
     "metadata": {},
     "output_type": "execute_result"
    }
   ],
   "source": [
    "div('')\n",
    "h1('Good night')\n",
    "div(h1('Good morning'))"
   ]
  },
  {
   "cell_type": "markdown",
   "metadata": {},
   "source": [
    "## Generating markup using PyHTML"
   ]
  },
  {
   "cell_type": "code",
   "execution_count": 40,
   "metadata": {},
   "outputs": [],
   "source": [
    "from pyhtml import h1, h2, div, p, img, head, html, body, title, link"
   ]
  },
  {
   "cell_type": "code",
   "execution_count": 36,
   "metadata": {},
   "outputs": [
    {
     "name": "stdout",
     "output_type": "stream",
     "text": [
      "<h1 class=\"greeting\">\n",
      "  Good Morning\n",
      "</h1>\n"
     ]
    }
   ],
   "source": [
    "print(h1(class_='greeting')('Good Morning'))"
   ]
  },
  {
   "cell_type": "code",
   "execution_count": 47,
   "metadata": {},
   "outputs": [
    {
     "name": "stdout",
     "output_type": "stream",
     "text": [
      "<!DOCTYPE html>\n",
      "<html>\n",
      "  <head>\n",
      "    <title>\n",
      "      My blog\n",
      "    </title>\n",
      "    <link href=\"style.class\" rel=\"stylesheet\"/>\n",
      "  </head>\n",
      "  <body>\n",
      "    <h1>\n",
      "      Good morning\n",
      "    </h1>\n",
      "    <h2>\n",
      "      I am vidu\n",
      "    </h2>\n",
      "    <div>\n",
      "      <p>\n",
      "        Welcome to hbh\n",
      "      </p>\n",
      "      <p>\n",
      "        Its beautiful here\n",
      "      </p>\n",
      "    </div>\n",
      "  </body>\n",
      "</html>\n"
     ]
    }
   ],
   "source": [
    "doc = html(\n",
    "    head(\n",
    "        title('My blog'),\n",
    "        link(rel='stylesheet', href='style.class')\n",
    "    ),\n",
    "    body(\n",
    "        h1('Good morning'),\n",
    "        h2('I am vidu'),\n",
    "        div(\n",
    "            p('Welcome to hbh'),\n",
    "            p('Its beautiful here')\n",
    "        )\n",
    "    )\n",
    ")\n",
    "print(doc)"
   ]
  }
 ],
 "metadata": {
  "kernelspec": {
   "display_name": "Python 3",
   "language": "python",
   "name": "python3"
  },
  "language_info": {
   "codemirror_mode": {
    "name": "ipython",
    "version": 3
   },
   "file_extension": ".py",
   "mimetype": "text/x-python",
   "name": "python",
   "nbconvert_exporter": "python",
   "pygments_lexer": "ipython3",
   "version": "3.12.6"
  }
 },
 "nbformat": 4,
 "nbformat_minor": 2
}
