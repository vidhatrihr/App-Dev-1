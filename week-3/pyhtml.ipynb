{
 "cells": [
  {
   "cell_type": "code",
   "execution_count": 4,
   "metadata": {},
   "outputs": [],
   "source": [
    "import pyhtml as h"
   ]
  },
  {
   "cell_type": "code",
   "execution_count": 5,
   "metadata": {},
   "outputs": [
    {
     "data": {
      "text/plain": [
       "h1('Hello')"
      ]
     },
     "execution_count": 5,
     "metadata": {},
     "output_type": "execute_result"
    }
   ],
   "source": [
    "h.h1('Hello')"
   ]
  },
  {
   "cell_type": "markdown",
   "metadata": {},
   "source": [
    "# People places"
   ]
  },
  {
   "cell_type": "code",
   "execution_count": 8,
   "metadata": {},
   "outputs": [],
   "source": [
    "people_places = [\n",
    "    ['vidu', 'hbh'],\n",
    "    ['rahul', 'bhadohi'],\n",
    "    ['harikesh', 'bhadohi']\n",
    "]"
   ]
  },
  {
   "cell_type": "code",
   "execution_count": 14,
   "metadata": {},
   "outputs": [
    {
     "name": "stdout",
     "output_type": "stream",
     "text": [
      "<p>\n",
      "  I am vidu, I live in hbh\n",
      "</p>\n",
      "<p>\n",
      "  I am rahul, I live in bhadohi\n",
      "</p>\n",
      "<p>\n",
      "  I am harikesh, I live in bhadohi\n",
      "</p>\n"
     ]
    }
   ],
   "source": [
    "for name, place in people_places:\n",
    "  print(h.p(f'I am {name}, I live in {place}'))"
   ]
  },
  {
   "cell_type": "code",
   "execution_count": 18,
   "metadata": {},
   "outputs": [
    {
     "name": "stdout",
     "output_type": "stream",
     "text": [
      "<p>\n",
      "  I am vidu, I live in hbh\n",
      "</p>\n",
      "<p>\n",
      "  I am rahul, I live in bhadohi\n",
      "</p>\n",
      "<p>\n",
      "  I am harikesh, I live in bhadohi\n",
      "</p>\n"
     ]
    },
    {
     "data": {
      "text/plain": [
       "[None, None, None]"
      ]
     },
     "execution_count": 18,
     "metadata": {},
     "output_type": "execute_result"
    }
   ],
   "source": [
    "[\n",
    "    print(h.p(f'I am {name}, I live in {place}')) for name, place in people_places\n",
    "]"
   ]
  },
  {
   "cell_type": "code",
   "execution_count": 25,
   "metadata": {},
   "outputs": [
    {
     "name": "stdout",
     "output_type": "stream",
     "text": [
      "<div>\n",
      "  <p>\n",
      "    I am vidu, I live in hbh\n",
      "  </p>\n",
      "  <p>\n",
      "    I am rahul, I live in bhadohi\n",
      "  </p>\n",
      "  <p>\n",
      "    I am harikesh, I live in bhadohi\n",
      "  </p>\n",
      "</div>\n"
     ]
    }
   ],
   "source": [
    "markup = h.div(\n",
    "    h.p(f'I am {name}, I live in {place}') for name, place in people_places\n",
    ")\n",
    "print(markup)"
   ]
  },
  {
   "cell_type": "markdown",
   "metadata": {},
   "source": [
    "# todos"
   ]
  },
  {
   "cell_type": "code",
   "execution_count": 32,
   "metadata": {},
   "outputs": [],
   "source": [
    "todos = [\n",
    "    {'text': 'To learn pyhtml', 'status': 'pending'},\n",
    "    {'text': 'Make gamaka videos', 'status': 'pending'},\n",
    "    {'text': 'Have lunch', 'status': 'done'}\n",
    "]"
   ]
  },
  {
   "cell_type": "code",
   "execution_count": 36,
   "metadata": {},
   "outputs": [
    {
     "data": {
      "text/plain": [
       "'⌛'"
      ]
     },
     "execution_count": 36,
     "metadata": {},
     "output_type": "execute_result"
    },
    {
     "data": {
      "text/plain": [
       "'✅'"
      ]
     },
     "execution_count": 36,
     "metadata": {},
     "output_type": "execute_result"
    }
   ],
   "source": [
    "def get_status_emoji(status):\n",
    "  if status == 'pending':\n",
    "    return '⌛'\n",
    "  elif status == 'done':\n",
    "    return '✅'\n",
    "\n",
    "\n",
    "get_status_emoji('pending')\n",
    "get_status_emoji('done')"
   ]
  },
  {
   "cell_type": "code",
   "execution_count": 37,
   "metadata": {},
   "outputs": [
    {
     "name": "stdout",
     "output_type": "stream",
     "text": [
      "⌛ To learn pyhtml\n",
      "⌛ Make gamaka videos\n",
      "✅ Have lunch\n"
     ]
    }
   ],
   "source": [
    "for todo in todos:\n",
    "  print(f'{get_status_emoji(todo['status'])} {todo['text']}')"
   ]
  },
  {
   "cell_type": "code",
   "execution_count": 60,
   "metadata": {},
   "outputs": [
    {
     "name": "stdout",
     "output_type": "stream",
     "text": [
      "<div class=\"container\">\n",
      "  <p class=\"todo pending\">\n",
      "    ⌛ To learn pyhtml\n",
      "  </p>\n",
      "  <p class=\"todo pending\">\n",
      "    ⌛ Make gamaka videos\n",
      "  </p>\n",
      "  <p class=\"todo done\">\n",
      "    ✅ Have lunch\n",
      "  </p>\n",
      "</div>\n"
     ]
    }
   ],
   "source": [
    "markup = h.div(class_='container')(\n",
    "    h.p(class_=f'todo {todo[\"status\"]}')(\n",
    "        f'{get_status_emoji(todo[\"status\"])} {todo[\"text\"]}'\n",
    "    )\n",
    "    for todo in todos\n",
    ")\n",
    "\n",
    "\n",
    "print(markup)"
   ]
  },
  {
   "cell_type": "markdown",
   "metadata": {},
   "source": [
    "# Week 3 lab"
   ]
  },
  {
   "cell_type": "code",
   "execution_count": 61,
   "metadata": {},
   "outputs": [],
   "source": [
    "data = [\n",
    "    (1001, 2001, 56), (1002, 2001, 67), (1003, 2001, 78), (1004, 2001, 90), (1005, 2001, 45),\n",
    "    (1001, 2002, 58), (1002, 2002, 98), (1009, 2002, 12), (1007, 2002, 99), (1008, 2002, 39),\n",
    "    (1003, 2003, 34), (1004, 2003, 43), (1000, 2003, 25), (1060, 2003, 60), (1090, 2003, 88),\n",
    "    (1005, 2004, 81), (1080, 2004, 59), (1030, 2004, 87), (1001, 2004, 35), (1090, 2004, 33)\n",
    "]"
   ]
  },
  {
   "cell_type": "code",
   "execution_count": 66,
   "metadata": {},
   "outputs": [],
   "source": [
    "# for student, course, marks in data:\n",
    "#   print(h.tr(\n",
    "#       h.td(student), h.td(course), h.td(marks)\n",
    "#   ))"
   ]
  },
  {
   "cell_type": "code",
   "execution_count": 72,
   "metadata": {},
   "outputs": [],
   "source": [
    "data_rows = [\n",
    "    h.tr(\n",
    "        h.td(student), h.td(course), h.td(marks)\n",
    "    )\n",
    "    for student, course, marks in data\n",
    "]"
   ]
  },
  {
   "cell_type": "code",
   "execution_count": 75,
   "metadata": {},
   "outputs": [],
   "source": [
    "header = h.tr(\n",
    "    h.th('Student Id'), h.th('Course Id'), h.th('Obtained Marks')\n",
    ")"
   ]
  },
  {
   "cell_type": "code",
   "execution_count": 76,
   "metadata": {},
   "outputs": [
    {
     "name": "stdout",
     "output_type": "stream",
     "text": [
      "<table>\n",
      "  <tr>\n",
      "    <th>\n",
      "      Student Id\n",
      "    </th>\n",
      "    <th>\n",
      "      Course Id\n",
      "    </th>\n",
      "    <th>\n",
      "      Obtained Marks\n",
      "    </th>\n",
      "  </tr>\n",
      "  <tr>\n",
      "    <td>\n",
      "      1001\n",
      "    </td>\n",
      "    <td>\n",
      "      2001\n",
      "    </td>\n",
      "    <td>\n",
      "      56\n",
      "    </td>\n",
      "  </tr>\n",
      "  <tr>\n",
      "    <td>\n",
      "      1002\n",
      "    </td>\n",
      "    <td>\n",
      "      2001\n",
      "    </td>\n",
      "    <td>\n",
      "      67\n",
      "    </td>\n",
      "  </tr>\n",
      "  <tr>\n",
      "    <td>\n",
      "      1003\n",
      "    </td>\n",
      "    <td>\n",
      "      2001\n",
      "    </td>\n",
      "    <td>\n",
      "      78\n",
      "    </td>\n",
      "  </tr>\n",
      "  <tr>\n",
      "    <td>\n",
      "      1004\n",
      "    </td>\n",
      "    <td>\n",
      "      2001\n",
      "    </td>\n",
      "    <td>\n",
      "      90\n",
      "    </td>\n",
      "  </tr>\n",
      "  <tr>\n",
      "    <td>\n",
      "      1005\n",
      "    </td>\n",
      "    <td>\n",
      "      2001\n",
      "    </td>\n",
      "    <td>\n",
      "      45\n",
      "    </td>\n",
      "  </tr>\n",
      "  <tr>\n",
      "    <td>\n",
      "      1001\n",
      "    </td>\n",
      "    <td>\n",
      "      2002\n",
      "    </td>\n",
      "    <td>\n",
      "      58\n",
      "    </td>\n",
      "  </tr>\n",
      "  <tr>\n",
      "    <td>\n",
      "      1002\n",
      "    </td>\n",
      "    <td>\n",
      "      2002\n",
      "    </td>\n",
      "    <td>\n",
      "      98\n",
      "    </td>\n",
      "  </tr>\n",
      "  <tr>\n",
      "    <td>\n",
      "      1009\n",
      "    </td>\n",
      "    <td>\n",
      "      2002\n",
      "    </td>\n",
      "    <td>\n",
      "      12\n",
      "    </td>\n",
      "  </tr>\n",
      "  <tr>\n",
      "    <td>\n",
      "      1007\n",
      "    </td>\n",
      "    <td>\n",
      "      2002\n",
      "    </td>\n",
      "    <td>\n",
      "      99\n",
      "    </td>\n",
      "  </tr>\n",
      "  <tr>\n",
      "    <td>\n",
      "      1008\n",
      "    </td>\n",
      "    <td>\n",
      "      2002\n",
      "    </td>\n",
      "    <td>\n",
      "      39\n",
      "    </td>\n",
      "  </tr>\n",
      "  <tr>\n",
      "    <td>\n",
      "      1003\n",
      "    </td>\n",
      "    <td>\n",
      "      2003\n",
      "    </td>\n",
      "    <td>\n",
      "      34\n",
      "    </td>\n",
      "  </tr>\n",
      "  <tr>\n",
      "    <td>\n",
      "      1004\n",
      "    </td>\n",
      "    <td>\n",
      "      2003\n",
      "    </td>\n",
      "    <td>\n",
      "      43\n",
      "    </td>\n",
      "  </tr>\n",
      "  <tr>\n",
      "    <td>\n",
      "      1000\n",
      "    </td>\n",
      "    <td>\n",
      "      2003\n",
      "    </td>\n",
      "    <td>\n",
      "      25\n",
      "    </td>\n",
      "  </tr>\n",
      "  <tr>\n",
      "    <td>\n",
      "      1060\n",
      "    </td>\n",
      "    <td>\n",
      "      2003\n",
      "    </td>\n",
      "    <td>\n",
      "      60\n",
      "    </td>\n",
      "  </tr>\n",
      "  <tr>\n",
      "    <td>\n",
      "      1090\n",
      "    </td>\n",
      "    <td>\n",
      "      2003\n",
      "    </td>\n",
      "    <td>\n",
      "      88\n",
      "    </td>\n",
      "  </tr>\n",
      "  <tr>\n",
      "    <td>\n",
      "      1005\n",
      "    </td>\n",
      "    <td>\n",
      "      2004\n",
      "    </td>\n",
      "    <td>\n",
      "      81\n",
      "    </td>\n",
      "  </tr>\n",
      "  <tr>\n",
      "    <td>\n",
      "      1080\n",
      "    </td>\n",
      "    <td>\n",
      "      2004\n",
      "    </td>\n",
      "    <td>\n",
      "      59\n",
      "    </td>\n",
      "  </tr>\n",
      "  <tr>\n",
      "    <td>\n",
      "      1030\n",
      "    </td>\n",
      "    <td>\n",
      "      2004\n",
      "    </td>\n",
      "    <td>\n",
      "      87\n",
      "    </td>\n",
      "  </tr>\n",
      "  <tr>\n",
      "    <td>\n",
      "      1001\n",
      "    </td>\n",
      "    <td>\n",
      "      2004\n",
      "    </td>\n",
      "    <td>\n",
      "      35\n",
      "    </td>\n",
      "  </tr>\n",
      "  <tr>\n",
      "    <td>\n",
      "      1090\n",
      "    </td>\n",
      "    <td>\n",
      "      2004\n",
      "    </td>\n",
      "    <td>\n",
      "      33\n",
      "    </td>\n",
      "  </tr>\n",
      "</table>\n"
     ]
    }
   ],
   "source": [
    "markup = h.table(\n",
    "    header,\n",
    "    *data_rows\n",
    ")\n",
    "\n",
    "print(markup)"
   ]
  }
 ],
 "metadata": {
  "kernelspec": {
   "display_name": "Python 3",
   "language": "python",
   "name": "python3"
  },
  "language_info": {
   "codemirror_mode": {
    "name": "ipython",
    "version": 3
   },
   "file_extension": ".py",
   "mimetype": "text/x-python",
   "name": "python",
   "nbconvert_exporter": "python",
   "pygments_lexer": "ipython3",
   "version": "3.12.6"
  }
 },
 "nbformat": 4,
 "nbformat_minor": 2
}
