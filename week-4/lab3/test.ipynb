{
 "cells": [
  {
   "cell_type": "code",
   "execution_count": 2,
   "metadata": {},
   "outputs": [],
   "source": [
    "from jinja2 import Template\n",
    "import matplotlib.pyplot as plt\n",
    "import csv"
   ]
  },
  {
   "cell_type": "code",
   "execution_count": 9,
   "metadata": {},
   "outputs": [],
   "source": [
    "def get_data():\n",
    "  col_names = ['student_id', 'course_id', 'marks']\n",
    "  data = list(csv.DictReader(open('data.csv'), fieldnames=col_names))\n",
    "  return data[1:]\n",
    "\n",
    "\n",
    "# get_data()"
   ]
  },
  {
   "cell_type": "code",
   "execution_count": 24,
   "metadata": {},
   "outputs": [
    {
     "data": {
      "text/plain": [
       "([{'student_id': '1001', 'course_id': ' 2001', 'marks': ' 56'},\n",
       "  {'student_id': '1001', 'course_id': ' 2002', 'marks': ' 58'},\n",
       "  {'student_id': '1001', 'course_id': ' 2004', 'marks': ' 35'}],\n",
       " 149)"
      ]
     },
     "execution_count": 24,
     "metadata": {},
     "output_type": "execute_result"
    }
   ],
   "source": [
    "def get_student_data(student_id):\n",
    "  data = get_data()\n",
    "  student_data = [row for row in data if row['student_id'] == student_id]\n",
    "  if len(student_data) == 0:\n",
    "    raise Exception('Invalid student_id')\n",
    "  marks = [int(row['marks']) for row in student_data]\n",
    "  total_marks = sum(marks)\n",
    "  return student_data, total_marks\n",
    "\n",
    "\n",
    "# get_student_data('1001')"
   ]
  },
  {
   "cell_type": "code",
   "execution_count": 33,
   "metadata": {},
   "outputs": [
    {
     "data": {
      "text/plain": [
       "([56, 67, 78, 90, 45], 67.2, 90)"
      ]
     },
     "execution_count": 33,
     "metadata": {},
     "output_type": "execute_result"
    }
   ],
   "source": [
    "def get_course_data(course_id):\n",
    "  data = get_data()\n",
    "  course_data = [row for row in data if row['course_id'] == course_id]\n",
    "  if len(course_data) == 0:\n",
    "    raise Exception('Invalid course_id')\n",
    "  marks = [int(row['marks']) for row in course_data]\n",
    "  avg_marks = sum(marks)/len(marks)\n",
    "  max_marks = max(marks)\n",
    "  return marks, avg_marks, max_marks\n",
    "\n",
    "\n",
    "# get_course_data(' 2001')"
   ]
  },
  {
   "cell_type": "code",
   "execution_count": 47,
   "metadata": {},
   "outputs": [],
   "source": [
    "def generate_error_html():\n",
    "  html = open('./templates/error.html').read()\n",
    "  open('output.html', 'w+').write(html)\n",
    "\n",
    "\n",
    "# generate_error_html()"
   ]
  },
  {
   "cell_type": "code",
   "execution_count": 65,
   "metadata": {},
   "outputs": [],
   "source": [
    "def generate_student_html(student_id):\n",
    "  try:\n",
    "    student_data, total_marks = get_student_data(student_id)\n",
    "  except:\n",
    "    return generate_error_html()\n",
    "  template_string = open('./templates/student.html').read()\n",
    "  html = Template(template_string).render(student_data=student_data, total_marks=total_marks)\n",
    "  open('output.html', 'w+').write(html)\n",
    "\n",
    "\n",
    "# generate_student_html('100')"
   ]
  },
  {
   "cell_type": "code",
   "execution_count": 58,
   "metadata": {},
   "outputs": [],
   "source": [
    "def generate_histogram(course_id, marks):\n",
    "  plt.hist(marks)\n",
    "  plt.title(f'Marks Vs Freq: {course_id}')\n",
    "  plt.xlabel('Marks')\n",
    "  plt.ylabel('Freq')\n",
    "  plt.savefig('histogram.png')"
   ]
  },
  {
   "cell_type": "code",
   "execution_count": 70,
   "metadata": {},
   "outputs": [],
   "source": [
    "def generate_course_html(course_id):\n",
    "  try:\n",
    "    marks, avg_marks, max_marks = get_course_data(course_id)\n",
    "  except:\n",
    "    return generate_error_html()\n",
    "  template_string = open('./templates/course.html').read()\n",
    "  html = Template(template_string).render(avg_marks=avg_marks, max_marks=max_marks)\n",
    "  open('output.html', 'w+').write(html)\n",
    "  generate_histogram(course_id, marks)\n",
    "\n",
    "\n",
    "# generate_course_html(' 2001')"
   ]
  }
 ],
 "metadata": {
  "kernelspec": {
   "display_name": "Python 3",
   "language": "python",
   "name": "python3"
  },
  "language_info": {
   "codemirror_mode": {
    "name": "ipython",
    "version": 3
   },
   "file_extension": ".py",
   "mimetype": "text/x-python",
   "name": "python",
   "nbconvert_exporter": "python",
   "pygments_lexer": "ipython3",
   "version": "3.12.6"
  }
 },
 "nbformat": 4,
 "nbformat_minor": 2
}
