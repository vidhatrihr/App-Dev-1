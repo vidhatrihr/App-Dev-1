{
 "cells": [
  {
   "cell_type": "markdown",
   "metadata": {},
   "source": [
    "# gradebook = []"
   ]
  },
  {
   "cell_type": "code",
   "execution_count": 44,
   "metadata": {},
   "outputs": [],
   "source": [
    "gradebook = [\n",
    "    ['vidu', 'rahul', 'harikesh', 'muskan', 'sanika'],\n",
    "    ['maths', 'mlf', 'pdsa', 'dbms', 'stats'],\n",
    "    [\n",
    "        ('vidu', 'dbms'),\n",
    "        ('rahul', 'pdsa'),\n",
    "        ('harikesh', 'maths'),\n",
    "    ]\n",
    "]"
   ]
  },
  {
   "cell_type": "code",
   "execution_count": 45,
   "metadata": {},
   "outputs": [
    {
     "data": {
      "text/plain": [
       "['vidu', 'rahul', 'harikesh', 'muskan', 'sanika', 'gauri']"
      ]
     },
     "execution_count": 45,
     "metadata": {},
     "output_type": "execute_result"
    }
   ],
   "source": [
    "gradebook[0].append('gauri')\n",
    "gradebook[0]"
   ]
  },
  {
   "cell_type": "code",
   "execution_count": 46,
   "metadata": {},
   "outputs": [
    {
     "data": {
      "text/plain": [
       "['maths', 'mlf', 'pdsa', 'dbms', 'stats', 'mlp']"
      ]
     },
     "execution_count": 46,
     "metadata": {},
     "output_type": "execute_result"
    }
   ],
   "source": [
    "gradebook[1].append('mlp')\n",
    "gradebook[1]"
   ]
  },
  {
   "cell_type": "code",
   "execution_count": 47,
   "metadata": {},
   "outputs": [
    {
     "data": {
      "text/plain": [
       "[('vidu', 'dbms'),\n",
       " ('rahul', 'pdsa'),\n",
       " ('harikesh', 'maths'),\n",
       " ('gauri', 'mlp'),\n",
       " ('gauri', 'maths')]"
      ]
     },
     "execution_count": 47,
     "metadata": {},
     "output_type": "execute_result"
    }
   ],
   "source": [
    "gradebook[2].append(('gauri', 'mlp'))\n",
    "gradebook[2].append(('gauri', 'maths'))\n",
    "gradebook[2]"
   ]
  },
  {
   "cell_type": "code",
   "execution_count": 48,
   "metadata": {},
   "outputs": [
    {
     "data": {
      "text/plain": [
       "['gauri']"
      ]
     },
     "execution_count": 48,
     "metadata": {},
     "output_type": "execute_result"
    }
   ],
   "source": [
    "[row[0] for row in gradebook[2] if row[1] == 'mlp']"
   ]
  },
  {
   "cell_type": "code",
   "execution_count": 49,
   "metadata": {},
   "outputs": [
    {
     "data": {
      "text/plain": [
       "['mlp', 'maths']"
      ]
     },
     "execution_count": 49,
     "metadata": {},
     "output_type": "execute_result"
    }
   ],
   "source": [
    "[row[1] for row in gradebook[2] if row[0] == 'gauri']"
   ]
  },
  {
   "cell_type": "code",
   "execution_count": 50,
   "metadata": {},
   "outputs": [
    {
     "data": {
      "text/plain": [
       "{'gauri', 'harikesh', 'rahul', 'vidu'}"
      ]
     },
     "execution_count": 50,
     "metadata": {},
     "output_type": "execute_result"
    }
   ],
   "source": [
    "set([row[0] for row in gradebook[2]])"
   ]
  },
  {
   "cell_type": "code",
   "execution_count": 51,
   "metadata": {},
   "outputs": [
    {
     "data": {
      "text/plain": [
       "{'muskan', 'sanika'}"
      ]
     },
     "execution_count": 51,
     "metadata": {},
     "output_type": "execute_result"
    }
   ],
   "source": [
    "set(gradebook[0]) - set(row[0] for row in gradebook[2])"
   ]
  },
  {
   "cell_type": "code",
   "execution_count": 52,
   "metadata": {},
   "outputs": [
    {
     "data": {
      "text/plain": [
       "{'dbms', 'maths', 'mlp', 'pdsa'}"
      ]
     },
     "execution_count": 52,
     "metadata": {},
     "output_type": "execute_result"
    }
   ],
   "source": [
    "set(row[1] for row in gradebook[2])"
   ]
  },
  {
   "cell_type": "code",
   "execution_count": 53,
   "metadata": {},
   "outputs": [
    {
     "data": {
      "text/plain": [
       "{'mlf', 'stats'}"
      ]
     },
     "execution_count": 53,
     "metadata": {},
     "output_type": "execute_result"
    }
   ],
   "source": [
    "set(gradebook[1]) - set(row[1] for row in gradebook[2])"
   ]
  },
  {
   "cell_type": "markdown",
   "metadata": {},
   "source": [
    "# gradebook = {}, enrollments = {}"
   ]
  },
  {
   "cell_type": "code",
   "execution_count": 54,
   "metadata": {},
   "outputs": [],
   "source": [
    "gradebook = {\n",
    "    'students': ['vidu', 'vishnu', 'vaishnvi', 'rahul'],\n",
    "    'courses': ['maths', 'stats', 'mlp', 'pdsa', 'dbms'],\n",
    "    'enrollments': [\n",
    "        {'student': 'vidu', 'course': 'maths'},\n",
    "        {'student': 'rahul', 'course': 'mlp'},\n",
    "        {'student': 'vishnu', 'course': 'pdsa'},\n",
    "        {'student': 'vaishnvi', 'course': 'dbms'},\n",
    "    ]\n",
    "}"
   ]
  },
  {
   "cell_type": "code",
   "execution_count": 55,
   "metadata": {},
   "outputs": [
    {
     "data": {
      "text/plain": [
       "{'students': ['vidu', 'vishnu', 'vaishnvi', 'rahul', 'harikesh'],\n",
       " 'courses': ['maths', 'stats', 'mlp', 'pdsa', 'dbms', 'english'],\n",
       " 'enrollments': [{'student': 'vidu', 'course': 'maths'},\n",
       "  {'student': 'rahul', 'course': 'mlp'},\n",
       "  {'student': 'vishnu', 'course': 'pdsa'},\n",
       "  {'student': 'vaishnvi', 'course': 'dbms'},\n",
       "  {'student': 'harikesh', 'course': 'english'},\n",
       "  {'student': 'harikesh', 'course': 'mlp'}]}"
      ]
     },
     "execution_count": 55,
     "metadata": {},
     "output_type": "execute_result"
    }
   ],
   "source": [
    "gradebook['students'].append('harikesh')\n",
    "gradebook['courses'].append('english')\n",
    "gradebook['enrollments'].append({'student': 'harikesh', 'course': 'english'})\n",
    "gradebook['enrollments'].append({'student': 'harikesh', 'course': 'mlp'})\n",
    "gradebook"
   ]
  },
  {
   "cell_type": "code",
   "execution_count": 60,
   "metadata": {},
   "outputs": [
    {
     "data": {
      "text/plain": [
       "['rahul', 'harikesh']"
      ]
     },
     "execution_count": 60,
     "metadata": {},
     "output_type": "execute_result"
    },
    {
     "data": {
      "text/plain": [
       "['english', 'mlp']"
      ]
     },
     "execution_count": 60,
     "metadata": {},
     "output_type": "execute_result"
    }
   ],
   "source": [
    "# who taken mlp\n",
    "[row['student'] for row in gradebook['enrollments'] if row['course'] == 'mlp']\n",
    "\n",
    "# what harikesh has taken\n",
    "[row['course'] for row in gradebook['enrollments'] if row['student'] == 'harikesh']"
   ]
  },
  {
   "cell_type": "code",
   "execution_count": 63,
   "metadata": {},
   "outputs": [],
   "source": [
    "gradebook['students'].append('cmd')"
   ]
  },
  {
   "cell_type": "code",
   "execution_count": 65,
   "metadata": {},
   "outputs": [
    {
     "data": {
      "text/plain": [
       "{'harikesh', 'rahul', 'vaishnvi', 'vidu', 'vishnu'}"
      ]
     },
     "execution_count": 65,
     "metadata": {},
     "output_type": "execute_result"
    },
    {
     "data": {
      "text/plain": [
       "{'cmd'}"
      ]
     },
     "execution_count": 65,
     "metadata": {},
     "output_type": "execute_result"
    }
   ],
   "source": [
    "# stud having at least 1 course\n",
    "set([row['student'] for row in gradebook['enrollments']])\n",
    "\n",
    "# stud having 0 course\n",
    "set(gradebook['students']) - set([row['student'] for row in gradebook['enrollments']])"
   ]
  },
  {
   "cell_type": "code",
   "execution_count": 70,
   "metadata": {},
   "outputs": [
    {
     "data": {
      "text/plain": [
       "{'dbms', 'english', 'maths', 'mlp', 'pdsa'}"
      ]
     },
     "execution_count": 70,
     "metadata": {},
     "output_type": "execute_result"
    },
    {
     "data": {
      "text/plain": [
       "{'stats'}"
      ]
     },
     "execution_count": 70,
     "metadata": {},
     "output_type": "execute_result"
    }
   ],
   "source": [
    "# course having at least 1 enroll\n",
    "set(row['course'] for row in gradebook['enrollments'])\n",
    "\n",
    "# course having 0 enroll\n",
    "set(gradebook['courses']) - set(row['course'] for row in gradebook['enrollments'])"
   ]
  },
  {
   "cell_type": "markdown",
   "metadata": {},
   "source": [
    "# gradebook = {}, enrollments = [{}, ...], students = [{name: ?, place: ?, age: ?}, ...]"
   ]
  },
  {
   "cell_type": "code",
   "execution_count": 84,
   "metadata": {},
   "outputs": [],
   "source": [
    "gradebook = {\n",
    "    'students': [\n",
    "        {'name': 'vidu', 'place': 'hbh', 'age': 22},\n",
    "        {'name': 'rahul', 'place': 'albd', 'age': 23},\n",
    "        {'name': 'muskan', 'place': 'raipur', 'age': 20},\n",
    "        {'name': 'sanika', 'place': 'pune', 'age': 25},\n",
    "    ],\n",
    "    'courses': [\n",
    "        'maths', 'pdsa', 'dbms', 'stats'\n",
    "    ],\n",
    "    'enrollments': [\n",
    "        {'student': 'vidu', 'course': 'pdsa'},\n",
    "        {'student': 'vidu', 'course': 'dbms'},\n",
    "        {'student': 'rahul', 'course': 'dbms'},\n",
    "        {'student': 'muskan', 'course': 'maths'},\n",
    "    ]\n",
    "}"
   ]
  },
  {
   "cell_type": "code",
   "execution_count": 85,
   "metadata": {},
   "outputs": [],
   "source": [
    "gradebook['students'].append({'name': 'harikesh', 'place': 'albd', 'age': 23})"
   ]
  },
  {
   "cell_type": "code",
   "execution_count": 86,
   "metadata": {},
   "outputs": [
    {
     "data": {
      "text/plain": [
       "{'students': [{'name': 'vidu', 'place': 'hbh', 'age': 22},\n",
       "  {'name': 'rahul', 'place': 'albd', 'age': 23},\n",
       "  {'name': 'muskan', 'place': 'raipur', 'age': 20},\n",
       "  {'name': 'sanika', 'place': 'pune', 'age': 25},\n",
       "  {'name': 'harikesh', 'place': 'albd', 'age': 23}],\n",
       " 'courses': ['maths', 'pdsa', 'dbms', 'stats', 'english'],\n",
       " 'enrollments': [{'student': 'vidu', 'course': 'pdsa'},\n",
       "  {'student': 'vidu', 'course': 'dbms'},\n",
       "  {'student': 'rahul', 'course': 'dbms'},\n",
       "  {'student': 'muskan', 'course': 'maths'},\n",
       "  {'student': 'harikesh', 'course': 'maths'},\n",
       "  {'student': 'harikesh', 'course': 'english'}]}"
      ]
     },
     "execution_count": 86,
     "metadata": {},
     "output_type": "execute_result"
    }
   ],
   "source": [
    "gradebook['courses'].append('english')\n",
    "gradebook['enrollments'].append({'student': 'harikesh', 'course': 'maths'})\n",
    "gradebook['enrollments'].append({'student': 'harikesh', 'course': 'english'})\n",
    "gradebook"
   ]
  },
  {
   "cell_type": "code",
   "execution_count": 87,
   "metadata": {},
   "outputs": [
    {
     "data": {
      "text/plain": [
       "['vidu', 'rahul', 'muskan', 'sanika', 'harikesh']"
      ]
     },
     "execution_count": 87,
     "metadata": {},
     "output_type": "execute_result"
    },
    {
     "data": {
      "text/plain": [
       "['rahul', 'harikesh']"
      ]
     },
     "execution_count": 87,
     "metadata": {},
     "output_type": "execute_result"
    },
    {
     "data": {
      "text/plain": [
       "['rahul', 'sanika', 'harikesh']"
      ]
     },
     "execution_count": 87,
     "metadata": {},
     "output_type": "execute_result"
    }
   ],
   "source": [
    "# all names\n",
    "[row['name'] for row in gradebook['students']]\n",
    "\n",
    "\n",
    "# all names (from albd)\n",
    "[row['name'] for row in gradebook['students'] if row['place'] == 'albd']\n",
    "\n",
    "# all names (>=23)\n",
    "[row['name'] for row in gradebook['students'] if row['age'] >= 23]"
   ]
  },
  {
   "cell_type": "code",
   "execution_count": 91,
   "metadata": {},
   "outputs": [
    {
     "data": {
      "text/plain": [
       "['muskan', 'harikesh']"
      ]
     },
     "execution_count": 91,
     "metadata": {},
     "output_type": "execute_result"
    },
    {
     "data": {
      "text/plain": [
       "['maths', 'english']"
      ]
     },
     "execution_count": 91,
     "metadata": {},
     "output_type": "execute_result"
    }
   ],
   "source": [
    "# who taken maths\n",
    "[row['student'] for row in gradebook['enrollments'] if row['course'] == 'maths']\n",
    "\n",
    "# what harikesh has taken\n",
    "[row['course'] for row in gradebook['enrollments'] if row['student'] == 'harikesh']"
   ]
  },
  {
   "cell_type": "code",
   "execution_count": 99,
   "metadata": {},
   "outputs": [
    {
     "data": {
      "text/plain": [
       "{'harikesh', 'muskan', 'rahul', 'vidu'}"
      ]
     },
     "execution_count": 99,
     "metadata": {},
     "output_type": "execute_result"
    },
    {
     "data": {
      "text/plain": [
       "{'sanika'}"
      ]
     },
     "execution_count": 99,
     "metadata": {},
     "output_type": "execute_result"
    }
   ],
   "source": [
    "# students having atleast 1 course\n",
    "set(row['student'] for row in gradebook['enrollments'])\n",
    "\n",
    "# student having 0 course\n",
    "set(row['name'] for row in gradebook['students']) - set(row['student'] for row in gradebook['enrollments'])"
   ]
  },
  {
   "cell_type": "code",
   "execution_count": 103,
   "metadata": {},
   "outputs": [
    {
     "data": {
      "text/plain": [
       "{'dbms', 'english', 'maths', 'pdsa'}"
      ]
     },
     "execution_count": 103,
     "metadata": {},
     "output_type": "execute_result"
    },
    {
     "data": {
      "text/plain": [
       "{'stats'}"
      ]
     },
     "execution_count": 103,
     "metadata": {},
     "output_type": "execute_result"
    }
   ],
   "source": [
    "# course with atleast 1 enroll\n",
    "set(row['course'] for row in gradebook['enrollments'])\n",
    "\n",
    "# course with 0 enroll\n",
    "set(gradebook['courses']) - set(row['course'] for row in gradebook['enrollments'])"
   ]
  }
 ],
 "metadata": {
  "kernelspec": {
   "display_name": "Python 3",
   "language": "python",
   "name": "python3"
  },
  "language_info": {
   "codemirror_mode": {
    "name": "ipython",
    "version": 3
   },
   "file_extension": ".py",
   "mimetype": "text/x-python",
   "name": "python",
   "nbconvert_exporter": "python",
   "pygments_lexer": "ipython3",
   "version": "3.12.6"
  }
 },
 "nbformat": 4,
 "nbformat_minor": 2
}
