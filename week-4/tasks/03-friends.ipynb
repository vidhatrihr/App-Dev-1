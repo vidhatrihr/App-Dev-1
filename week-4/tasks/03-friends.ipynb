{
 "cells": [
  {
   "cell_type": "code",
   "execution_count": 1,
   "metadata": {},
   "outputs": [],
   "source": [
    "import json"
   ]
  },
  {
   "cell_type": "markdown",
   "metadata": {},
   "source": [
    "# [name only] `1D list`"
   ]
  },
  {
   "cell_type": "code",
   "execution_count": 2,
   "metadata": {},
   "outputs": [],
   "source": [
    "def commit(friends):\n",
    "  json_string = json.dumps(friends)\n",
    "  open('friends-name-only.json', 'w+').write(json_string)"
   ]
  },
  {
   "cell_type": "code",
   "execution_count": 3,
   "metadata": {},
   "outputs": [
    {
     "data": {
      "text/plain": [
       "['vidu', 'muskan', 'vaishnvi', 'vishnu']"
      ]
     },
     "execution_count": 3,
     "metadata": {},
     "output_type": "execute_result"
    }
   ],
   "source": [
    "def load_data():\n",
    "  json_string = open('friends-name-only.json').read()\n",
    "  return json.loads(json_string)\n",
    "\n",
    "\n",
    "friends = load_data()\n",
    "friends"
   ]
  },
  {
   "cell_type": "code",
   "execution_count": 13,
   "metadata": {},
   "outputs": [
    {
     "data": {
      "text/plain": [
       "True"
      ]
     },
     "execution_count": 13,
     "metadata": {},
     "output_type": "execute_result"
    }
   ],
   "source": [
    "def is_friend(name):\n",
    "  return name in friends\n",
    "\n",
    "\n",
    "def add_friend(name):\n",
    "  if not is_friend(name):\n",
    "    friends.append(name)\n",
    "    commit(friends)   # save the update in json file\n",
    "\n",
    "\n",
    "def remove_friend(name):\n",
    "  if is_friend(name):\n",
    "    friends.remove(name)\n",
    "    commit(friends)  # save the update in json file\n",
    "\n",
    "\n",
    "is_friend('vidu')\n",
    "add_friend('sanika')\n",
    "add_friend('rahul')\n",
    "remove_friend('rahul')"
   ]
  },
  {
   "cell_type": "markdown",
   "metadata": {},
   "source": [
    "# [name + place + state + age + weight + study] `friends = {name: {...} }`"
   ]
  },
  {
   "cell_type": "code",
   "execution_count": 15,
   "metadata": {},
   "outputs": [],
   "source": [
    "def commit(friends):\n",
    "  json_string = json.dumps(friends, indent=2)\n",
    "  open('friends-full-data.json', 'w+').write(json_string)"
   ]
  },
  {
   "cell_type": "code",
   "execution_count": 40,
   "metadata": {},
   "outputs": [
    {
     "data": {
      "text/plain": [
       "['vidu', 'muskan', 'sanika', 'vaishnvi']"
      ]
     },
     "execution_count": 40,
     "metadata": {},
     "output_type": "execute_result"
    }
   ],
   "source": [
    "def load_data():\n",
    "  json_string = open('friends-full-data.json').read()\n",
    "  return json.loads(json_string)\n",
    "\n",
    "\n",
    "friends = load_data()\n",
    "list(friends.keys())"
   ]
  },
  {
   "cell_type": "code",
   "execution_count": 29,
   "metadata": {},
   "outputs": [
    {
     "data": {
      "text/plain": [
       "['vidu', 'muskan', 'sanika', 'vaishnvi']"
      ]
     },
     "execution_count": 29,
     "metadata": {},
     "output_type": "execute_result"
    },
    {
     "data": {
      "text/plain": [
       "['hbh', 'raipur', 'pune', 'hbh']"
      ]
     },
     "execution_count": 29,
     "metadata": {},
     "output_type": "execute_result"
    },
    {
     "data": {
      "text/plain": [
       "['kar', 'chg', 'mst', 'kar']"
      ]
     },
     "execution_count": 29,
     "metadata": {},
     "output_type": "execute_result"
    },
    {
     "data": {
      "text/plain": [
       "[21, 21, 21, 14]"
      ]
     },
     "execution_count": 29,
     "metadata": {},
     "output_type": "execute_result"
    },
    {
     "data": {
      "text/plain": [
       "[45, 35, 60, 35]"
      ]
     },
     "execution_count": 29,
     "metadata": {},
     "output_type": "execute_result"
    },
    {
     "data": {
      "text/plain": [
       "['ba+bs', 'bs', 'btech+bs', '9th']"
      ]
     },
     "execution_count": 29,
     "metadata": {},
     "output_type": "execute_result"
    }
   ],
   "source": [
    "def get_names():\n",
    "  return list(friends.keys())\n",
    "\n",
    "\n",
    "def get_place():\n",
    "  return [data['place'] for data in friends.values()]\n",
    "\n",
    "\n",
    "def get_states():\n",
    "  return [data['state'] for data in friends.values()]\n",
    "\n",
    "\n",
    "def get_age():\n",
    "  return [data['age'] for data in friends.values()]\n",
    "\n",
    "\n",
    "def get_weight():\n",
    "  return [data['weight'] for data in friends.values()]\n",
    "\n",
    "\n",
    "def get_studies():\n",
    "  return [data['study'] for data in friends.values()]\n",
    "\n",
    "\n",
    "get_names()\n",
    "get_place()\n",
    "get_states()\n",
    "get_age()\n",
    "get_weight()\n",
    "get_studies()"
   ]
  },
  {
   "cell_type": "code",
   "execution_count": 87,
   "metadata": {},
   "outputs": [
    {
     "data": {
      "text/plain": [
       "True"
      ]
     },
     "execution_count": 87,
     "metadata": {},
     "output_type": "execute_result"
    },
    {
     "data": {
      "text/plain": [
       "'hbh'"
      ]
     },
     "execution_count": 87,
     "metadata": {},
     "output_type": "execute_result"
    },
    {
     "data": {
      "text/plain": [
       "'hbh'"
      ]
     },
     "execution_count": 87,
     "metadata": {},
     "output_type": "execute_result"
    },
    {
     "data": {
      "text/plain": [
       "21"
      ]
     },
     "execution_count": 87,
     "metadata": {},
     "output_type": "execute_result"
    },
    {
     "data": {
      "text/plain": [
       "45"
      ]
     },
     "execution_count": 87,
     "metadata": {},
     "output_type": "execute_result"
    },
    {
     "data": {
      "text/plain": [
       "'ba+bs'"
      ]
     },
     "execution_count": 87,
     "metadata": {},
     "output_type": "execute_result"
    }
   ],
   "source": [
    "def is_friend(name):\n",
    "  return name in friends\n",
    "\n",
    "\n",
    "def get_place_of(name):\n",
    "  return friends[name]['place'] if is_friend(name) else None\n",
    "\n",
    "\n",
    "def get_state_of(name):\n",
    "  return friends[name]['state'] if is_friend(name) else None\n",
    "\n",
    "\n",
    "def get_age_of(name):\n",
    "  return friends[name]['age'] if is_friend(name) else None\n",
    "\n",
    "\n",
    "def get_weight_of(name):\n",
    "  return friends[name]['weight'] if is_friend(name) else None\n",
    "\n",
    "\n",
    "def get_study_info(name):\n",
    "  return friends[name]['study'] if is_friend(name) else None\n",
    "\n",
    "\n",
    "# def get_people_studying(study):\n",
    "#   return [name for name, data in friends.items() if study in data['study']]\n",
    "\n",
    "\n",
    "is_friend('sanika')\n",
    "get_place_of('vidu')\n",
    "get_place_of('vidu')\n",
    "get_age_of('vidu')\n",
    "get_weight_of('vidu')\n",
    "get_study_info('vidu')\n",
    "# get_people_studying('ba+bs')"
   ]
  },
  {
   "cell_type": "code",
   "execution_count": 92,
   "metadata": {},
   "outputs": [
    {
     "data": {
      "text/plain": [
       "False"
      ]
     },
     "execution_count": 92,
     "metadata": {},
     "output_type": "execute_result"
    },
    {
     "data": {
      "text/plain": [
       "{'vidu': {'place': 'hbh',\n",
       "  'state': 'kar',\n",
       "  'age': 21,\n",
       "  'weight': 45,\n",
       "  'study': 'ba+bs'},\n",
       " 'muskan': {'place': 'raipur',\n",
       "  'state': 'chg',\n",
       "  'age': 21,\n",
       "  'weight': 35,\n",
       "  'study': 'bs'},\n",
       " 'vaishnvi': {'place': 'hbh',\n",
       "  'state': 'kar',\n",
       "  'age': 14,\n",
       "  'weight': 35,\n",
       "  'study': '9th'},\n",
       " 'cmd': {'place': 'albd',\n",
       "  'state': 'up',\n",
       "  'age': 21,\n",
       "  'weight': 40,\n",
       "  'study': 'btech'}}"
      ]
     },
     "execution_count": 92,
     "metadata": {},
     "output_type": "execute_result"
    }
   ],
   "source": [
    "\n",
    "def add_friend(name, place, state, age, weight, study):\n",
    "  if not is_friend(name):\n",
    "    friends[name] = {'place': place, 'state': state, 'age': age, 'weight': weight, 'study': study}\n",
    "    commit(friends)\n",
    "\n",
    "\n",
    "def remove_friend(name):\n",
    "  if is_friend(name):\n",
    "    del friends[name]\n",
    "    commit(friends)\n",
    "\n",
    "\n",
    "is_friend('rahul')\n",
    "add_friend('cmd', 'albd', 'up', 21, 40, 'btech')\n",
    "remove_friend('sanika')\n",
    "friends"
   ]
  }
 ],
 "metadata": {
  "kernelspec": {
   "display_name": "Python 3",
   "language": "python",
   "name": "python3"
  },
  "language_info": {
   "codemirror_mode": {
    "name": "ipython",
    "version": 3
   },
   "file_extension": ".py",
   "mimetype": "text/x-python",
   "name": "python",
   "nbconvert_exporter": "python",
   "pygments_lexer": "ipython3",
   "version": "3.12.6"
  }
 },
 "nbformat": 4,
 "nbformat_minor": 2
}
