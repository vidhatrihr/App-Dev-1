{
 "cells": [
  {
   "cell_type": "code",
   "execution_count": 1,
   "metadata": {},
   "outputs": [],
   "source": [
    "import json"
   ]
  },
  {
   "cell_type": "code",
   "execution_count": 2,
   "metadata": {},
   "outputs": [
    {
     "data": {
      "text/plain": [
       "dict"
      ]
     },
     "execution_count": 2,
     "metadata": {},
     "output_type": "execute_result"
    },
    {
     "data": {
      "text/plain": [
       "{'name': 'vidu',\n",
       " 'level': 'diploma',\n",
       " 'place': 'hbh',\n",
       " 'age': 21,\n",
       " 'study': 'ba+bs',\n",
       " 'weight': 60}"
      ]
     },
     "execution_count": 2,
     "metadata": {},
     "output_type": "execute_result"
    }
   ],
   "source": [
    "# file >>> json_string\n",
    "json_string = open('vidu-data.json').read()\n",
    "\n",
    "# json_string >>> json.loads >>> object\n",
    "data = json.loads(json_string)\n",
    "type(data)\n",
    "data"
   ]
  },
  {
   "cell_type": "code",
   "execution_count": 3,
   "metadata": {},
   "outputs": [
    {
     "data": {
      "text/plain": [
       "{'name': 'vidu',\n",
       " 'level': 'diploma',\n",
       " 'place': 'hbh',\n",
       " 'age': 21,\n",
       " 'study': 'ba+bs',\n",
       " 'weight': 60}"
      ]
     },
     "execution_count": 3,
     "metadata": {},
     "output_type": "execute_result"
    }
   ],
   "source": [
    "data['weight'] = 60\n",
    "data"
   ]
  },
  {
   "cell_type": "code",
   "execution_count": 4,
   "metadata": {},
   "outputs": [
    {
     "data": {
      "text/plain": [
       "95"
      ]
     },
     "execution_count": 4,
     "metadata": {},
     "output_type": "execute_result"
    }
   ],
   "source": [
    "# object >>> json.dumps >>> json_string\n",
    "json_string = json.dumps(data)\n",
    "\n",
    "\n",
    "# json_string >>> file\n",
    "open('vidu-data.json', 'w+').write(json_string)"
   ]
  },
  {
   "cell_type": "markdown",
   "metadata": {},
   "source": [
    "# butterfly_message.json "
   ]
  },
  {
   "cell_type": "code",
   "execution_count": 5,
   "metadata": {},
   "outputs": [
    {
     "data": {
      "text/plain": [
       "list"
      ]
     },
     "execution_count": 5,
     "metadata": {},
     "output_type": "execute_result"
    },
    {
     "data": {
      "text/plain": [
       "['I am a butterfly',\n",
       " 'I am blue in color',\n",
       " 'I am happy',\n",
       " 'I live for 2 weeks',\n",
       " 'I fly']"
      ]
     },
     "execution_count": 5,
     "metadata": {},
     "output_type": "execute_result"
    }
   ],
   "source": [
    "json_string = open('butterfly-message.json').read()\n",
    "butterfly_message = json.loads(json_string)\n",
    "type(butterfly_message)\n",
    "butterfly_message"
   ]
  },
  {
   "cell_type": "code",
   "execution_count": 6,
   "metadata": {},
   "outputs": [
    {
     "data": {
      "text/plain": [
       "['I am a butterfly',\n",
       " 'I am blue in color',\n",
       " 'I am happy',\n",
       " 'I live for 2 weeks',\n",
       " 'I fly',\n",
       " 'I fly']"
      ]
     },
     "execution_count": 6,
     "metadata": {},
     "output_type": "execute_result"
    }
   ],
   "source": [
    "butterfly_message.append('I fly')\n",
    "butterfly_message"
   ]
  },
  {
   "cell_type": "code",
   "execution_count": 7,
   "metadata": {},
   "outputs": [
    {
     "data": {
      "text/plain": [
       "96"
      ]
     },
     "execution_count": 7,
     "metadata": {},
     "output_type": "execute_result"
    }
   ],
   "source": [
    "json_string = json.dumps(butterfly_message)\n",
    "open('butterfly-message.json', 'w+').write(json_string)"
   ]
  },
  {
   "cell_type": "markdown",
   "metadata": {},
   "source": [
    "# [name only] `1D list`"
   ]
  },
  {
   "cell_type": "code",
   "execution_count": 17,
   "metadata": {},
   "outputs": [
    {
     "data": {
      "text/plain": [
       "['vidu', 'muskan', 'vaishnvi', 'vishnu', 'sanika', 'gauri']"
      ]
     },
     "execution_count": 17,
     "metadata": {},
     "output_type": "execute_result"
    }
   ],
   "source": [
    "# loading\n",
    "\n",
    "json_string = open('friends-name-only.json').read()\n",
    "friends = json.loads(json_string)\n",
    "friends"
   ]
  },
  {
   "cell_type": "code",
   "execution_count": 16,
   "metadata": {},
   "outputs": [],
   "source": [
    "# committing\n",
    "\n",
    "def commit(friends):\n",
    "  json_string = json.dumps(friends)\n",
    "  open('friends-name-only.json', 'w+').write(json_string)"
   ]
  },
  {
   "cell_type": "code",
   "execution_count": 19,
   "metadata": {},
   "outputs": [],
   "source": [
    "def is_friend(name):\n",
    "  return name in friends\n",
    "\n",
    "\n",
    "def add_friend(name):\n",
    "  if not is_friend(name):\n",
    "    friends.append(name)\n",
    "    commit(friends)\n",
    "\n",
    "\n",
    "def remove_friend(name):\n",
    "  if is_friend(name):\n",
    "    friends.remove(name)\n",
    "    commit(friends)"
   ]
  },
  {
   "cell_type": "code",
   "execution_count": 22,
   "metadata": {},
   "outputs": [
    {
     "data": {
      "text/plain": [
       "['vidu',\n",
       " 'muskan',\n",
       " 'vaishnvi',\n",
       " 'vishnu',\n",
       " 'sanika',\n",
       " 'mahi',\n",
       " 'cmd',\n",
       " 'harikesh',\n",
       " 'tanu']"
      ]
     },
     "execution_count": 22,
     "metadata": {},
     "output_type": "execute_result"
    }
   ],
   "source": [
    "add_friend('mahi')\n",
    "add_friend('cmd')\n",
    "remove_friend('gauri')\n",
    "add_friend('tanu')\n",
    "friends"
   ]
  },
  {
   "cell_type": "code",
   "execution_count": 18,
   "metadata": {},
   "outputs": [
    {
     "data": {
      "text/plain": [
       "['vidu', 'muskan', 'vaishnvi', 'vishnu', 'sanika', 'gauri']"
      ]
     },
     "execution_count": 18,
     "metadata": {},
     "output_type": "execute_result"
    }
   ],
   "source": [
    "friends"
   ]
  },
  {
   "cell_type": "markdown",
   "metadata": {},
   "source": [
    "# [name + place + state + age + weight + study] `friends = {name: {...}}`"
   ]
  },
  {
   "cell_type": "code",
   "execution_count": 36,
   "metadata": {},
   "outputs": [],
   "source": [
    "# loading\n",
    "json_string = open('friends-full-data.json').read()\n",
    "friends = json.loads(json_string)"
   ]
  },
  {
   "cell_type": "code",
   "execution_count": 37,
   "metadata": {},
   "outputs": [],
   "source": [
    "# committing\n",
    "\n",
    "def commit(friends):\n",
    "  json_string = json.dumps(friends)\n",
    "  open('friends-full-data.json', 'w+').write(json_string)"
   ]
  },
  {
   "cell_type": "code",
   "execution_count": 38,
   "metadata": {},
   "outputs": [],
   "source": [
    "def is_friend(name):\n",
    "  return name in friends\n",
    "\n",
    "\n",
    "def add_friend(name, place, state, age, weight, study):\n",
    "  if not is_friend(name):\n",
    "    friends[name] = {'place': place, 'state': state, 'age': age, 'weight': weight, 'study': study}\n",
    "    commit(friends)\n",
    "\n",
    "\n",
    "def remove_friend(name):\n",
    "  if is_friend(name):\n",
    "    del friends[name]\n",
    "    commit(friends)"
   ]
  },
  {
   "cell_type": "code",
   "execution_count": 42,
   "metadata": {},
   "outputs": [
    {
     "data": {
      "text/plain": [
       "{'vidu': {'place': 'hbh',\n",
       "  'state': 'kar',\n",
       "  'age': 21,\n",
       "  'weight': 45,\n",
       "  'study': 'ba+bs'},\n",
       " 'muskan': {'place': 'raipur',\n",
       "  'state': 'chg',\n",
       "  'age': 21,\n",
       "  'weight': 35,\n",
       "  'study': 'bs'},\n",
       " 'vaishnvi': {'place': 'hbh',\n",
       "  'state': 'kar',\n",
       "  'age': 14,\n",
       "  'weight': 35,\n",
       "  'study': '9th'},\n",
       " 'harikesh': {'place': 'albd',\n",
       "  'state': 'up',\n",
       "  'age': 22,\n",
       "  'weight': 60,\n",
       "  'study': 'bsc+bs'},\n",
       " 'gauri': {'place': 'delhi',\n",
       "  'state': 'up',\n",
       "  'age': 22,\n",
       "  'weight': 60,\n",
       "  'study': 'btech'},\n",
       " 'mahi': {'place': 'albd',\n",
       "  'state': 'up',\n",
       "  'age': 22,\n",
       "  'weight': 60,\n",
       "  'study': 'nursery'}}"
      ]
     },
     "execution_count": 42,
     "metadata": {},
     "output_type": "execute_result"
    }
   ],
   "source": [
    "add_friend('harikesh', 'albd', 'up', 22, 60, 'bsc+bs')\n",
    "add_friend('gauri', 'delhi', 'up', 22, 60, 'btech')\n",
    "add_friend('mahi', 'albd', 'up', 22, 60, 'nursery')\n",
    "remove_friend('cmd')\n",
    "friends"
   ]
  }
 ],
 "metadata": {
  "kernelspec": {
   "display_name": "Python 3",
   "language": "python",
   "name": "python3"
  },
  "language_info": {
   "codemirror_mode": {
    "name": "ipython",
    "version": 3
   },
   "file_extension": ".py",
   "mimetype": "text/x-python",
   "name": "python",
   "nbconvert_exporter": "python",
   "pygments_lexer": "ipython3",
   "version": "3.12.6"
  }
 },
 "nbformat": 4,
 "nbformat_minor": 2
}
