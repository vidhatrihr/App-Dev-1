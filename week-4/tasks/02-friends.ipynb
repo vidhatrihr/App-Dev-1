{
 "cells": [
  {
   "cell_type": "markdown",
   "metadata": {},
   "source": [
    "# [name + place + state + age + weight + study] `2D list`"
   ]
  },
  {
   "cell_type": "code",
   "execution_count": 22,
   "metadata": {},
   "outputs": [
    {
     "name": "stdout",
     "output_type": "stream",
     "text": [
      "vidu\n",
      "vishnu\n",
      "rahul\n"
     ]
    }
   ],
   "source": [
    "friends = [\n",
    "    ['vidu', 'hbh', 'ka', 25, 50, 'ba+bs'],\n",
    "    ['vishnu', 'hbh', 'ka', 12, 30, '3rd'],\n",
    "    ['rahul', 'albd', 'up', 21, 65, 'bsc+bs'],\n",
    "    ['muskan', 'raipur', 'cg', 20, 55, 'bs'],\n",
    "    ['sanika', 'pune', 'mh', 27, 60, 'btech+bs'],\n",
    "]\n",
    "\n",
    "for row in friends:\n",
    "  if row[1] == 'hbh' or row[4] >= 65:\n",
    "    print(row[0])"
   ]
  },
  {
   "cell_type": "code",
   "execution_count": 20,
   "metadata": {},
   "outputs": [
    {
     "name": "stdout",
     "output_type": "stream",
     "text": [
      "vidu\n",
      "vishnu\n",
      "rahul\n"
     ]
    }
   ],
   "source": [
    "\n",
    "friends = {\n",
    "    'vidu': {'place': 'hbh', 'state': 'ka', 'age': 25, 'weight': 50, 'study': 'ba+bs'},\n",
    "    'vishnu': {'place': 'hbh', 'state': 'ka', 'age': 12, 'weight': 30, 'study': '3rd'},\n",
    "    'rahul': {'place': 'albd', 'state': 'up', 'age': 21, 'weight': 65, 'study': 'bsc+bs'},\n",
    "    'muskan': {'place': 'raipur', 'state': 'cg', 'age': 20, 'weight': 55, 'study': 'bs'},\n",
    "    'sanika': {'place': 'pune', 'state': 'mh', 'age': 27, 'weight': 60, 'study': 'btech+bs'},\n",
    "}\n",
    "\n",
    "for name, data in friends.items():\n",
    "  if data['place'] == 'hbh' or data['weight'] >= 65:\n",
    "    print(name)"
   ]
  }
 ],
 "metadata": {
  "kernelspec": {
   "display_name": "Python 3",
   "language": "python",
   "name": "python3"
  },
  "language_info": {
   "codemirror_mode": {
    "name": "ipython",
    "version": 3
   },
   "file_extension": ".py",
   "mimetype": "text/x-python",
   "name": "python",
   "nbconvert_exporter": "python",
   "pygments_lexer": "ipython3",
   "version": "3.12.6"
  }
 },
 "nbformat": 4,
 "nbformat_minor": 2
}
