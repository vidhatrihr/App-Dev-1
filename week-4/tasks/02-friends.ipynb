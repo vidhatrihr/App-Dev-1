{
 "cells": [
  {
   "cell_type": "markdown",
   "metadata": {},
   "source": [
    "# [name + place + state + age + weight + study] `2D list`"
   ]
  },
  {
   "cell_type": "code",
   "execution_count": 86,
   "metadata": {},
   "outputs": [
    {
     "name": "stdout",
     "output_type": "stream",
     "text": [
      "vidu\n",
      "vishnu\n",
      "rahul\n"
     ]
    }
   ],
   "source": [
    "friends = [\n",
    "    ['vidu', 'hbh', 'ka', 25, 50, 'ba+bs'],\n",
    "    ['vishnu', 'hbh', 'ka', 12, 30, '3rd'],\n",
    "    ['rahul', 'albd', 'up', 21, 65, 'bsc+bs'],\n",
    "    ['muskan', 'raipur', 'cg', 20, 55, 'bs'],\n",
    "    ['sanika', 'pune', 'mh', 27, 60, 'btech+bs'],\n",
    "]\n",
    "\n",
    "for row in friends:\n",
    "  if row[1] == 'hbh' or row[4] >= 65:\n",
    "    print(row[0])"
   ]
  },
  {
   "cell_type": "code",
   "execution_count": 87,
   "metadata": {},
   "outputs": [
    {
     "data": {
      "text/plain": [
       "[['vidu', 'hbh', 'ka', 25, 50, 'ba+bs'],\n",
       " ['vishnu', 'hbh', 'ka', 12, 30, '3rd'],\n",
       " ['rahul', 'albd', 'up', 21, 65, 'bsc+bs'],\n",
       " ['muskan', 'raipur', 'cg', 20, 55, 'bs'],\n",
       " ['cmd', 'albd', 'up', 20, 50, 'btech']]"
      ]
     },
     "execution_count": 87,
     "metadata": {},
     "output_type": "execute_result"
    }
   ],
   "source": [
    "def get_names():\n",
    "  return [row[0] for row in friends]\n",
    "\n",
    "\n",
    "def get_places():\n",
    "  return [row[1] for row in friends]\n",
    "\n",
    "\n",
    "def get_place_of(name):\n",
    "  return [row[1] for row in friends if row[0] == name][0]\n",
    "\n",
    "\n",
    "def get_data_of(name):\n",
    "  return [row for row in friends if row[0] == name][0]\n",
    "\n",
    "\n",
    "def get_people_studying(study):\n",
    "  return [row[0] for row in friends if study in row[5]]\n",
    "\n",
    "\n",
    "def is_friend(name):\n",
    "  return name in get_names()\n",
    "\n",
    "\n",
    "def add_friend(name, place, state, age, weight, study):\n",
    "  if not is_friend(name):\n",
    "    friends.append([name, place, state, age, weight, study])\n",
    "\n",
    "\n",
    "def remove_friend(name):\n",
    "  if is_friend(name):\n",
    "    friends.remove(get_data_of(name))\n",
    "\n",
    "\n",
    "# get_names()\n",
    "# get_places()\n",
    "# get_place_of('rahul')\n",
    "# get_data_of('vidu')\n",
    "# get_people_studying('bsc')\n",
    "# is_friend('rahul')\n",
    "# is_friend('cmd')\n",
    "add_friend('cmd', 'albd', 'up', 20, 50, 'btech')\n",
    "remove_friend('sanika')\n",
    "friends"
   ]
  },
  {
   "cell_type": "markdown",
   "metadata": {},
   "source": [
    "# [name + place + state + age + weight + study] `friends = {name: [...]}`"
   ]
  },
  {
   "cell_type": "code",
   "execution_count": 88,
   "metadata": {},
   "outputs": [],
   "source": [
    "friends = {\n",
    "    'vidu': ['hbh', 'ka', 25, 50, 'ba+bs'],\n",
    "    'vishnu': ['hbh', 'ka', 12, 30, '3rd'],\n",
    "    'rahul': ['albd', 'up', 21, 65, 'bsc+bs'],\n",
    "    'muskan': ['raipur', 'cg', 20, 55, 'bs'],\n",
    "    'sanika': ['pune', 'mh', 27, 60, 'btech+bs'],\n",
    "}"
   ]
  },
  {
   "cell_type": "code",
   "execution_count": 89,
   "metadata": {},
   "outputs": [
    {
     "data": {
      "text/plain": [
       "{'vidu': ['hbh', 'ka', 25, 50, 'ba+bs'],\n",
       " 'vishnu': ['hbh', 'ka', 12, 30, '3rd'],\n",
       " 'rahul': ['albd', 'up', 21, 65, 'bsc+bs'],\n",
       " 'muskan': ['raipur', 'cg', 20, 55, 'bs'],\n",
       " 'vaishnvi': ['hospete', 'ka', 14, 45, '9th']}"
      ]
     },
     "execution_count": 89,
     "metadata": {},
     "output_type": "execute_result"
    }
   ],
   "source": [
    "def get_names():\n",
    "  return list(friends.keys())\n",
    "\n",
    "\n",
    "def get_places():\n",
    "  return [data[0] for data in friends.values()]\n",
    "\n",
    "\n",
    "def get_data_of(name):\n",
    "  return friends[name]\n",
    "\n",
    "\n",
    "def get_people_studying(study):\n",
    "  return [name for name, data in friends.items() if study in data[4]]\n",
    "\n",
    "\n",
    "def is_friend(name):\n",
    "  return name in friends\n",
    "\n",
    "\n",
    "def add_friend(name, place, state, age, weight, study):\n",
    "  if not is_friend(name):\n",
    "    friends[name] = [place, state, age, weight, study]\n",
    "\n",
    "\n",
    "def remove_friend(name):\n",
    "  if is_friend(name):\n",
    "    del friends[name]\n",
    "\n",
    "\n",
    "# get_names()\n",
    "# get_places()\n",
    "# get_data_of('muskan')\n",
    "# get_people_studying('btech+bs')\n",
    "# is_friend('cmd')\n",
    "add_friend('vaishnvi', 'hospete', 'ka', 14, 45, '9th')\n",
    "remove_friend('sanika')\n",
    "friends"
   ]
  },
  {
   "cell_type": "markdown",
   "metadata": {},
   "source": [
    "# [name + place + state + age + weight + study] `friends = {name: {...}}`"
   ]
  },
  {
   "cell_type": "code",
   "execution_count": 90,
   "metadata": {},
   "outputs": [],
   "source": [
    "friends = {\n",
    "    # name: friends[name]\n",
    "    'vidu': {'place': 'hbh', 'state': 'ka', 'age': 25, 'weight': 50, 'study': 'ba+bs'},\n",
    "    'vishnu': {'place': 'hbh', 'state': 'ka', 'age': 12, 'weight': 30, 'study': '3rd'},\n",
    "    'rahul': {'place': 'albd', 'state': 'up', 'age': 21, 'weight': 65, 'study': 'bsc+bs'},\n",
    "    'cmd': {'place': 'albd', 'state': 'up', 'age': 22, 'weight': 55, 'study': 'btech'},\n",
    "    'muskan': {'place': 'raipur', 'state': 'cg', 'age': 20, 'weight': 55, 'study': 'bs'},\n",
    "    'sanika': {'place': 'pune', 'state': 'mh', 'age': 27, 'weight': 60, 'study': 'btech+bs'},\n",
    "}"
   ]
  },
  {
   "cell_type": "code",
   "execution_count": 91,
   "metadata": {},
   "outputs": [
    {
     "data": {
      "text/plain": [
       "False"
      ]
     },
     "execution_count": 91,
     "metadata": {},
     "output_type": "execute_result"
    },
    {
     "data": {
      "text/plain": [
       "{'vidu': {'place': 'hbh',\n",
       "  'state': 'ka',\n",
       "  'age': 25,\n",
       "  'weight': 50,\n",
       "  'study': 'ba+bs'},\n",
       " 'vishnu': {'place': 'hbh',\n",
       "  'state': 'ka',\n",
       "  'age': 12,\n",
       "  'weight': 30,\n",
       "  'study': '3rd'},\n",
       " 'rahul': {'place': 'albd',\n",
       "  'state': 'up',\n",
       "  'age': 21,\n",
       "  'weight': 65,\n",
       "  'study': 'bsc+bs'},\n",
       " 'cmd': {'place': 'albd',\n",
       "  'state': 'up',\n",
       "  'age': 22,\n",
       "  'weight': 55,\n",
       "  'study': 'btech'},\n",
       " 'muskan': {'place': 'raipur',\n",
       "  'state': 'cg',\n",
       "  'age': 20,\n",
       "  'weight': 55,\n",
       "  'study': 'bs'}}"
      ]
     },
     "execution_count": 91,
     "metadata": {},
     "output_type": "execute_result"
    }
   ],
   "source": [
    "def get_names():\n",
    "  return list(friends.keys())\n",
    "\n",
    "\n",
    "def get_places():\n",
    "  return [data['place'] for data in friends.values()]\n",
    "\n",
    "\n",
    "def get_studies():\n",
    "  return [data['study'] for data in friends.values()]\n",
    "\n",
    "\n",
    "def get_place_of(name):\n",
    "  return friends[name]['place']\n",
    "  # return [data['place'] for key, data in friends.items() if key == name][0]\n",
    "\n",
    "\n",
    "def get_study_of(name):\n",
    "  return friends[name]['study']\n",
    "  # return [data['study'] for key, data in friends.items() if key == name][0]\n",
    "\n",
    "\n",
    "def get_property(name, property):\n",
    "  return friends[name][property]\n",
    "  # return [data[property] for key, data in friends.items() if key == name][0]\n",
    "\n",
    "\n",
    "def get_people_studying(study):\n",
    "  return [name for name, data in friends.items() if study in data['study']]\n",
    "\n",
    "\n",
    "def is_friend(name):\n",
    "  return name in friends\n",
    "\n",
    "\n",
    "def add_friend(name, place, state, age, weight, study):\n",
    "  if not is_friend(name):\n",
    "    friends[name] = {\n",
    "        'place': place,\n",
    "        'state': state,\n",
    "        'age': age,\n",
    "        'weight': weight,\n",
    "        'study': study,\n",
    "    }\n",
    "\n",
    "\n",
    "def remove_friend(name):\n",
    "  if is_friend(name):\n",
    "    del friends[name]\n",
    "\n",
    "\n",
    "# get_names()\n",
    "# get_places()\n",
    "# get_studies()\n",
    "# get_place_of('rahul')\n",
    "# get_study_of('vidu')\n",
    "# friends['rahul']['age']  # get_property('rahul', 'age')\n",
    "# friends['sanika']['place']  # get_property('sanika', 'place')\n",
    "# friends['vidu']['weight']  # get_property('vidu', 'weight')\n",
    "# get_people_studying('btech')\n",
    "is_friend('harikesh')\n",
    "# add_friend(name='harikesh', place='albd', state='up', age=22, weight=60, study='bsc+bs')\n",
    "remove_friend('sanika')\n",
    "friends"
   ]
  }
 ],
 "metadata": {
  "kernelspec": {
   "display_name": "Python 3",
   "language": "python",
   "name": "python3"
  },
  "language_info": {
   "codemirror_mode": {
    "name": "ipython",
    "version": 3
   },
   "file_extension": ".py",
   "mimetype": "text/x-python",
   "name": "python",
   "nbconvert_exporter": "python",
   "pygments_lexer": "ipython3",
   "version": "3.12.6"
  }
 },
 "nbformat": 4,
 "nbformat_minor": 2
}
