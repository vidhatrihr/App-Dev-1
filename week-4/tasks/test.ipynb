{
 "cells": [
  {
   "cell_type": "markdown",
   "metadata": {},
   "source": [
    "# dict"
   ]
  },
  {
   "cell_type": "code",
   "execution_count": 6,
   "metadata": {},
   "outputs": [
    {
     "data": {
      "text/plain": [
       "{'pen': 12, 'pencil': 2, 'soap': 5, 'apple': 5}"
      ]
     },
     "execution_count": 6,
     "metadata": {},
     "output_type": "execute_result"
    }
   ],
   "source": [
    "shopping = {\n",
    "    'pen': 10,\n",
    "    'pencil': 2,\n",
    "    'soap': 5,\n",
    "    'oil': 1\n",
    "}\n",
    "\n",
    "shopping['pen'] = 12\n",
    "shopping['apple'] = 5\n",
    "del shopping['oil']\n",
    "\n",
    "shopping"
   ]
  },
  {
   "cell_type": "code",
   "execution_count": 14,
   "metadata": {},
   "outputs": [
    {
     "name": "stdout",
     "output_type": "stream",
     "text": [
      "I bought 24 PENs\n",
      "I bought 4 PENCILs\n",
      "I bought 10 SOAPs\n",
      "I bought 10 APPLEs\n"
     ]
    }
   ],
   "source": [
    "for item, qty in shopping.items():\n",
    "  print(f'I bought {2*qty} {item.upper()}s')"
   ]
  },
  {
   "cell_type": "code",
   "execution_count": 10,
   "metadata": {},
   "outputs": [
    {
     "name": "stdout",
     "output_type": "stream",
     "text": [
      "12\n",
      "2\n",
      "5\n",
      "5\n"
     ]
    }
   ],
   "source": [
    "for qty in shopping.values():\n",
    "  print(qty)"
   ]
  },
  {
   "cell_type": "code",
   "execution_count": 9,
   "metadata": {},
   "outputs": [
    {
     "name": "stdout",
     "output_type": "stream",
     "text": [
      "pen\n",
      "pencil\n",
      "soap\n",
      "apple\n"
     ]
    }
   ],
   "source": [
    "for item in shopping.keys():\n",
    "  print(item)"
   ]
  },
  {
   "cell_type": "markdown",
   "metadata": {},
   "source": [
    "# [name + place + state + age + weight + study] `2D list`"
   ]
  },
  {
   "cell_type": "code",
   "execution_count": 24,
   "metadata": {},
   "outputs": [],
   "source": [
    "friends = [\n",
    "    ['vidu', 'hbh', 'ka', 21, 50, 'ba+bs'],\n",
    "    ['vishnu', 'hbh', 'ka', 12, 30, '3rd'],\n",
    "    ['rahul', 'albd', 'up', 22, 65, 'bsc+bs'],\n",
    "    ['muskan', 'raipur', 'cg', 20, 50, 'bs'],\n",
    "    ['sanika', 'pune', 'mh', 27, 60, 'btech+bs']\n",
    "]"
   ]
  },
  {
   "cell_type": "code",
   "execution_count": 50,
   "metadata": {},
   "outputs": [
    {
     "data": {
      "text/plain": [
       "True"
      ]
     },
     "execution_count": 50,
     "metadata": {},
     "output_type": "execute_result"
    }
   ],
   "source": [
    "names = ['rahul', 'vidu']\n",
    "'rahul' in names"
   ]
  },
  {
   "cell_type": "code",
   "execution_count": 57,
   "metadata": {},
   "outputs": [
    {
     "data": {
      "text/plain": [
       "[['vidu', 'hbh', 'ka', 21, 50, 'ba+bs'],\n",
       " ['vishnu', 'hbh', 'ka', 12, 30, '3rd'],\n",
       " ['rahul', 'albd', 'up', 22, 65, 'bsc+bs'],\n",
       " ['muskan', 'raipur', 'cg', 20, 50, 'bs'],\n",
       " ['cmd', 'albd', 'up', 20, 50, 'btech']]"
      ]
     },
     "execution_count": 57,
     "metadata": {},
     "output_type": "execute_result"
    }
   ],
   "source": [
    "def get_names():\n",
    "  return [row[0] for row in friends]\n",
    "\n",
    "\n",
    "def get_places():\n",
    "  return [row[1] for row in friends]\n",
    "\n",
    "\n",
    "def get_place_of(name):\n",
    "  return [row[1] for row in friends if row[0] == name][0]\n",
    "\n",
    "\n",
    "def get_data_of(name):\n",
    "  return [row for row in friends if row[0] == name][0]\n",
    "\n",
    "\n",
    "def get_people_studying(study):\n",
    "  return [row[0] for row in friends if study in row[5]]\n",
    "\n",
    "\n",
    "def is_friend(name):\n",
    "  return name in get_names()\n",
    "\n",
    "\n",
    "def add_friend(name, place, state, age, weight, study):\n",
    "  if not is_friend(name):\n",
    "    friends.append([name, place, state, age, weight, study])\n",
    "\n",
    "\n",
    "def remove_friend(name):\n",
    "  if is_friend(name):\n",
    "    friends.remove(get_data_of(name))\n",
    "\n",
    "\n",
    "# get_names()\n",
    "# get_places()\n",
    "# get_place_of('rahul')\n",
    "# get_data_of('vidu')\n",
    "# get_people_studying('bsc')\n",
    "# is_friend('rahul')\n",
    "# is_friend('cmd')\n",
    "add_friend('cmd', 'albd', 'up', 20, 50, 'btech')\n",
    "remove_friend('sanika')\n",
    "friends"
   ]
  }
 ],
 "metadata": {
  "kernelspec": {
   "display_name": "Python 3",
   "language": "python",
   "name": "python3"
  },
  "language_info": {
   "codemirror_mode": {
    "name": "ipython",
    "version": 3
   },
   "file_extension": ".py",
   "mimetype": "text/x-python",
   "name": "python",
   "nbconvert_exporter": "python",
   "pygments_lexer": "ipython3",
   "version": "3.12.6"
  }
 },
 "nbformat": 4,
 "nbformat_minor": 2
}
