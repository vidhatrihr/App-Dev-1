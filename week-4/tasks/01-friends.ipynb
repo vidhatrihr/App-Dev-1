{
 "cells": [
  {
   "cell_type": "markdown",
   "metadata": {},
   "source": [
    "# [name only]"
   ]
  },
  {
   "cell_type": "code",
   "execution_count": 157,
   "metadata": {},
   "outputs": [
    {
     "data": {
      "text/plain": [
       "False"
      ]
     },
     "execution_count": 157,
     "metadata": {},
     "output_type": "execute_result"
    },
    {
     "data": {
      "text/plain": [
       "['vidu', 'vishnu', 'rahul', 'cmd']"
      ]
     },
     "execution_count": 157,
     "metadata": {},
     "output_type": "execute_result"
    }
   ],
   "source": [
    "friends = ['vidu', 'vishnu', 'rahul']\n",
    "\n",
    "\n",
    "def is_friend(name):\n",
    "  return name in friends\n",
    "\n",
    "\n",
    "def add_friend(name):\n",
    "  if not is_friend(name):\n",
    "    friends.append(name)\n",
    "\n",
    "\n",
    "def remove_friend(name):\n",
    "  if is_friend(name):\n",
    "    friends.remove(name)\n",
    "\n",
    "\n",
    "add_friend('sanika')\n",
    "add_friend('cmd')\n",
    "remove_friend('sanika')\n",
    "is_friend('sanika')\n",
    "friends"
   ]
  },
  {
   "cell_type": "markdown",
   "metadata": {},
   "source": [
    "# [name + place] `2D list`"
   ]
  },
  {
   "cell_type": "code",
   "execution_count": 158,
   "metadata": {},
   "outputs": [
    {
     "data": {
      "text/plain": [
       "False"
      ]
     },
     "execution_count": 158,
     "metadata": {},
     "output_type": "execute_result"
    },
    {
     "data": {
      "text/plain": [
       "['vaishnvi']"
      ]
     },
     "execution_count": 158,
     "metadata": {},
     "output_type": "execute_result"
    },
    {
     "data": {
      "text/plain": [
       "'albd'"
      ]
     },
     "execution_count": 158,
     "metadata": {},
     "output_type": "execute_result"
    },
    {
     "data": {
      "text/plain": [
       "['vaishnvi', 'rahul', 'cmd', 'harikesh']"
      ]
     },
     "execution_count": 158,
     "metadata": {},
     "output_type": "execute_result"
    },
    {
     "data": {
      "text/plain": [
       "['hbh', 'albd', 'albd', 'albd']"
      ]
     },
     "execution_count": 158,
     "metadata": {},
     "output_type": "execute_result"
    },
    {
     "data": {
      "text/plain": [
       "[['vaishnvi', 'hbh'], ['rahul', 'albd'], ['cmd', 'albd'], ['harikesh', 'albd']]"
      ]
     },
     "execution_count": 158,
     "metadata": {},
     "output_type": "execute_result"
    }
   ],
   "source": [
    "friends = [\n",
    "    ['vidu', 'hbh'],\n",
    "    ['vaishnvi', 'hbh'],\n",
    "    ['rahul', 'albd'],\n",
    "    ['cmd', 'albd']\n",
    "]\n",
    "\n",
    "\n",
    "def get_names():\n",
    "  return [row[0] for row in friends]\n",
    "\n",
    "\n",
    "def get_places():\n",
    "  return [row[1] for row in friends]\n",
    "\n",
    "\n",
    "def get_place_of(name):\n",
    "  return [row[1] for row in friends if row[0] == name][0]\n",
    "\n",
    "\n",
    "def get_people_from(place):\n",
    "  return [row[0] for row in friends if row[1] == place]\n",
    "\n",
    "\n",
    "def is_friend(name):\n",
    "  return name in get_names()\n",
    "  # something = [True for row in friends if row[0] == name]\n",
    "  # if something == [True]:\n",
    "  #   return True\n",
    "  # elif something == []:\n",
    "  #   return False\n",
    "\n",
    "\n",
    "def add_friend(name, place):\n",
    "  if not is_friend(name):\n",
    "    friends.append([name, place])\n",
    "\n",
    "\n",
    "def remove_friend(name):\n",
    "  if is_friend(name):\n",
    "    friends.remove([name, get_place_of(name)])\n",
    "\n",
    "\n",
    "remove_friend('vidu')\n",
    "add_friend('harikesh', 'albd')\n",
    "is_friend('abc')\n",
    "get_people_from('hbh')\n",
    "get_place_of('rahul')\n",
    "get_names()\n",
    "get_places()\n",
    "friends"
   ]
  },
  {
   "cell_type": "code",
   "execution_count": 159,
   "metadata": {},
   "outputs": [
    {
     "data": {
      "text/plain": [
       "['apple', 'banana']"
      ]
     },
     "execution_count": 159,
     "metadata": {},
     "output_type": "execute_result"
    }
   ],
   "source": [
    "fruits = ['orange', 'apple', 'banana']\n",
    "fruits.remove('orange')\n",
    "fruits"
   ]
  },
  {
   "cell_type": "code",
   "execution_count": 160,
   "metadata": {},
   "outputs": [
    {
     "data": {
      "text/plain": [
       "10"
      ]
     },
     "execution_count": 160,
     "metadata": {},
     "output_type": "execute_result"
    },
    {
     "data": {
      "text/plain": [
       "[['apple', 20], ['banana', 10]]"
      ]
     },
     "execution_count": 160,
     "metadata": {},
     "output_type": "execute_result"
    }
   ],
   "source": [
    "prices = [\n",
    "    ['orange', 10],\n",
    "    ['apple', 20],\n",
    "    ['banana', 10]\n",
    "]\n",
    "\n",
    "\n",
    "def get_price_of(fruit):\n",
    "  return [row[1] for row in prices if fruit == row[0]][0]\n",
    "\n",
    "\n",
    "get_price_of('banana')\n",
    "prices.remove(['orange', get_price_of('orange')])\n",
    "prices"
   ]
  },
  {
   "cell_type": "markdown",
   "metadata": {},
   "source": [
    "# [name + place + age]  `2D list`"
   ]
  },
  {
   "cell_type": "code",
   "execution_count": 161,
   "metadata": {},
   "outputs": [
    {
     "data": {
      "text/plain": [
       "['vidu', 'vishnu', 'rahul', 'vaish']"
      ]
     },
     "execution_count": 161,
     "metadata": {},
     "output_type": "execute_result"
    },
    {
     "data": {
      "text/plain": [
       "['hbh', 'hbh', 'albd', 'hbh']"
      ]
     },
     "execution_count": 161,
     "metadata": {},
     "output_type": "execute_result"
    },
    {
     "data": {
      "text/plain": [
       "['vidu', 'vishnu', 'vaish']"
      ]
     },
     "execution_count": 161,
     "metadata": {},
     "output_type": "execute_result"
    },
    {
     "data": {
      "text/plain": [
       "'albd'"
      ]
     },
     "execution_count": 161,
     "metadata": {},
     "output_type": "execute_result"
    },
    {
     "data": {
      "text/plain": [
       "21"
      ]
     },
     "execution_count": 161,
     "metadata": {},
     "output_type": "execute_result"
    },
    {
     "data": {
      "text/plain": [
       "False"
      ]
     },
     "execution_count": 161,
     "metadata": {},
     "output_type": "execute_result"
    },
    {
     "data": {
      "text/plain": [
       "[['vidu', 'hbh', 20],\n",
       " ['vishnu', 'hbh', 9],\n",
       " ['rahul', 'albd', 21],\n",
       " ['vaish', 'hbh', 13]]"
      ]
     },
     "execution_count": 161,
     "metadata": {},
     "output_type": "execute_result"
    }
   ],
   "source": [
    "friends = [\n",
    "    ['vidu', 'hbh', 20],\n",
    "    ['vishnu', 'hbh', 9],\n",
    "    ['rahul', 'albd', 21],\n",
    "    ['vaish', 'hbh', 13]\n",
    "]\n",
    "\n",
    "\n",
    "def get_names():\n",
    "  return [row[0] for row in friends]\n",
    "\n",
    "\n",
    "def get_places():\n",
    "  return [row[1] for row in friends]\n",
    "\n",
    "\n",
    "def get_people_from(place):\n",
    "  return [row[0] for row in friends if row[1] == place]\n",
    "\n",
    "\n",
    "def get_place_of(name):\n",
    "  return [row[1] for row in friends if row[0] == name][0]\n",
    "\n",
    "\n",
    "def get_age_of(name):\n",
    "  return [row[2] for row in friends if row[0] == name][0]\n",
    "\n",
    "\n",
    "def is_friend(name):\n",
    "  return name in get_names()\n",
    "\n",
    "\n",
    "def add_friend(name, place, age):\n",
    "  if not is_friend(name):\n",
    "    friends.append([name, place, age])\n",
    "\n",
    "\n",
    "def remove_friend(name):\n",
    "  if is_friend(name):\n",
    "    friends.remove([name, get_place_of(name), get_age_of(name)])\n",
    "\n",
    "\n",
    "get_names()\n",
    "get_places()\n",
    "get_people_from('hbh')\n",
    "get_place_of('rahul')\n",
    "get_age_of('rahul')\n",
    "is_friend('cba')\n",
    "add_friend('sanika', 'pune', 21)\n",
    "remove_friend('sanika')\n",
    "friends"
   ]
  },
  {
   "cell_type": "markdown",
   "metadata": {},
   "source": [
    "# [name + place + age] `friends = {name: [...]}`"
   ]
  },
  {
   "cell_type": "code",
   "execution_count": 54,
   "metadata": {},
   "outputs": [
    {
     "data": {
      "text/plain": [
       "['vidu', 'rahul', 'muskan', 'sanika', 'vishnu', 'vaishnvi']"
      ]
     },
     "execution_count": 54,
     "metadata": {},
     "output_type": "execute_result"
    },
    {
     "data": {
      "text/plain": [
       "['hbh', 'albd', 'raipur', 'pune', 'hbh', 'hbh']"
      ]
     },
     "execution_count": 54,
     "metadata": {},
     "output_type": "execute_result"
    },
    {
     "data": {
      "text/plain": [
       "['vidu', 'vishnu', 'vaishnvi']"
      ]
     },
     "execution_count": 54,
     "metadata": {},
     "output_type": "execute_result"
    },
    {
     "data": {
      "text/plain": [
       "'hbh'"
      ]
     },
     "execution_count": 54,
     "metadata": {},
     "output_type": "execute_result"
    },
    {
     "data": {
      "text/plain": [
       "10"
      ]
     },
     "execution_count": 54,
     "metadata": {},
     "output_type": "execute_result"
    },
    {
     "data": {
      "text/plain": [
       "True"
      ]
     },
     "execution_count": 54,
     "metadata": {},
     "output_type": "execute_result"
    },
    {
     "data": {
      "text/plain": [
       "{'vidu': ['hbh', 20],\n",
       " 'rahul': ['albd', 21],\n",
       " 'muskan': ['raipur', 20],\n",
       " 'sanika': ['pune', 21],\n",
       " 'vishnu': ['hbh', 10],\n",
       " 'vaishnvi': ['hbh', 14]}"
      ]
     },
     "execution_count": 54,
     "metadata": {},
     "output_type": "execute_result"
    }
   ],
   "source": [
    "friends = {\n",
    "    'vidu': ['hbh', 20],\n",
    "    'rahul': ['albd', 21],\n",
    "    'muskan': ['raipur', 20],\n",
    "    'sanika': ['pune', 21],\n",
    "    'vishnu': ['hbh', 10],\n",
    "    'vaishnvi': ['hbh', 14]\n",
    "}\n",
    "\n",
    "\n",
    "def get_names():\n",
    "  return list(friends.keys())\n",
    "\n",
    "\n",
    "def get_places():\n",
    "  return [data[0] for data in friends.values()]\n",
    "\n",
    "\n",
    "def get_people_from(place):\n",
    "  return [name for name, data in friends.items() if data[0] == place]\n",
    "\n",
    "\n",
    "def get_place_of(name):\n",
    "  return friends[name][0]\n",
    "\n",
    "\n",
    "def get_age_of(name):\n",
    "  return friends[name][1]\n",
    "\n",
    "\n",
    "def is_friend(name):\n",
    "  return name in friends\n",
    "\n",
    "\n",
    "def add_friend(name, place, age):\n",
    "  if not is_friend(name):\n",
    "    friends[name] = [place, age]\n",
    "\n",
    "\n",
    "def remove_friend(name):\n",
    "  if is_friend(name):\n",
    "    del friends[name]\n",
    "\n",
    "\n",
    "get_names()\n",
    "get_places()\n",
    "get_people_from('hbh')\n",
    "get_place_of('vidu')\n",
    "get_age_of('vishnu')\n",
    "is_friend('vidu')\n",
    "add_friend('cmd', 'albd', 19)\n",
    "remove_friend('cmd')\n",
    "friends"
   ]
  },
  {
   "cell_type": "code",
   "execution_count": 163,
   "metadata": {},
   "outputs": [],
   "source": [
    "# prices = {\n",
    "#     'orange': [10, 15],\n",
    "#     'apple': [20, 25],\n",
    "#     'banana': [40, 45]\n",
    "# }\n",
    "\n",
    "# del prices['kiwi']\n",
    "# prices"
   ]
  },
  {
   "cell_type": "markdown",
   "metadata": {},
   "source": [
    "# [name + place + age]  `friends = {name: {...}}`"
   ]
  },
  {
   "cell_type": "code",
   "execution_count": 75,
   "metadata": {},
   "outputs": [
    {
     "data": {
      "text/plain": [
       "['vidu', 'vishnu', 'rahul']"
      ]
     },
     "execution_count": 75,
     "metadata": {},
     "output_type": "execute_result"
    },
    {
     "data": {
      "text/plain": [
       "['hbh', 'hbh', 'albd']"
      ]
     },
     "execution_count": 75,
     "metadata": {},
     "output_type": "execute_result"
    },
    {
     "data": {
      "text/plain": [
       "[21, 11, 21]"
      ]
     },
     "execution_count": 75,
     "metadata": {},
     "output_type": "execute_result"
    },
    {
     "data": {
      "text/plain": [
       "'albd'"
      ]
     },
     "execution_count": 75,
     "metadata": {},
     "output_type": "execute_result"
    },
    {
     "data": {
      "text/plain": [
       "21"
      ]
     },
     "execution_count": 75,
     "metadata": {},
     "output_type": "execute_result"
    },
    {
     "data": {
      "text/plain": [
       "['vidu', 'vishnu']"
      ]
     },
     "execution_count": 75,
     "metadata": {},
     "output_type": "execute_result"
    },
    {
     "data": {
      "text/plain": [
       "['vishnu']"
      ]
     },
     "execution_count": 75,
     "metadata": {},
     "output_type": "execute_result"
    },
    {
     "data": {
      "text/plain": [
       "(False, True)"
      ]
     },
     "execution_count": 75,
     "metadata": {},
     "output_type": "execute_result"
    },
    {
     "data": {
      "text/plain": [
       "{'vidu': {'place': 'hbh', 'age': 21},\n",
       " 'vishnu': {'place': 'hbh', 'age': 11},\n",
       " 'rahul': {'place': 'albd', 'age': 21},\n",
       " 'muskan': {'place': 'raipur', 'age': 21}}"
      ]
     },
     "execution_count": 75,
     "metadata": {},
     "output_type": "execute_result"
    }
   ],
   "source": [
    "friends = {\n",
    "    'vidu': {\n",
    "        'place': 'hbh', 'age': 21\n",
    "    },\n",
    "    'vishnu': {\n",
    "        'place': 'hbh', 'age': 11\n",
    "    },\n",
    "    'rahul': {\n",
    "        'place': 'albd', 'age': 21\n",
    "    }\n",
    "}\n",
    "\n",
    "\n",
    "def get_names():\n",
    "  return list(friends.keys())\n",
    "\n",
    "\n",
    "def get_places():\n",
    "  return [data['place'] for data in friends.values()]\n",
    "\n",
    "\n",
    "def get_ages():\n",
    "  return [data['age'] for data in friends.values()]\n",
    "\n",
    "\n",
    "def get_place_of(name):\n",
    "  return friends[name]['place']\n",
    "\n",
    "\n",
    "def get_age_of(name):\n",
    "  return friends[name]['age']\n",
    "\n",
    "\n",
    "def get_people_from(place):\n",
    "  return [name for name, data in friends.items() if data['place'] == place]\n",
    "\n",
    "\n",
    "def get_people_of(age):\n",
    "  return [name for name, data in friends.items() if data['age'] == age]\n",
    "\n",
    "\n",
    "def is_friend(name):\n",
    "  return name in friends\n",
    "\n",
    "\n",
    "def add_friend(name, place, age):\n",
    "  if not is_friend(name):\n",
    "    friends[name] = {'place': place, 'age': age}\n",
    "\n",
    "\n",
    "def remove_friend(name):\n",
    "  if is_friend(name):\n",
    "    del friends[name]\n",
    "\n",
    "\n",
    "get_names()\n",
    "get_places()\n",
    "get_ages()\n",
    "get_place_of('rahul')\n",
    "get_age_of('rahul')\n",
    "get_people_from('hbh')\n",
    "get_people_of(11)\n",
    "is_friend('zebra'), is_friend('rahul')\n",
    "add_friend('muskan', 'raipur', 21)\n",
    "add_friend('sanika', 'pune', 25)\n",
    "remove_friend('sanika')\n",
    "friends"
   ]
  },
  {
   "cell_type": "code",
   "execution_count": 22,
   "metadata": {},
   "outputs": [
    {
     "data": {
      "text/plain": [
       "'albd'"
      ]
     },
     "execution_count": 22,
     "metadata": {},
     "output_type": "execute_result"
    }
   ],
   "source": [
    "data = {\n",
    "    'name': 'rahul',\n",
    "    'age': 20,\n",
    "    'place': 'albd'\n",
    "}\n",
    "\n",
    "data['place']"
   ]
  }
 ],
 "metadata": {
  "kernelspec": {
   "display_name": "Python 3",
   "language": "python",
   "name": "python3"
  },
  "language_info": {
   "codemirror_mode": {
    "name": "ipython",
    "version": 3
   },
   "file_extension": ".py",
   "mimetype": "text/x-python",
   "name": "python",
   "nbconvert_exporter": "python",
   "pygments_lexer": "ipython3",
   "version": "3.12.6"
  }
 },
 "nbformat": 4,
 "nbformat_minor": 2
}
