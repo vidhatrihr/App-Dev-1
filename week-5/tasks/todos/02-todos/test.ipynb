{
 "cells": [
  {
   "cell_type": "code",
   "execution_count": 2,
   "metadata": {},
   "outputs": [
    {
     "data": {
      "text/plain": [
       "{2: 'take bath', 3: 'code', 4: 'sleep'}"
      ]
     },
     "execution_count": 2,
     "metadata": {},
     "output_type": "execute_result"
    }
   ],
   "source": [
    "todos = {\n",
    "    1: 'Drink water',\n",
    "    2: 'take bath'\n",
    "}\n",
    "\n",
    "last_id = 3\n",
    "\n",
    "\n",
    "def add_todo(text):\n",
    "  global last_id\n",
    "  todos[last_id] = text\n",
    "  last_id += 1\n",
    "\n",
    "\n",
    "def remove_todo(id):\n",
    "  if id in todos:\n",
    "    del todos[id]\n",
    "\n",
    "\n",
    "add_todo('code')\n",
    "add_todo('sleep')\n",
    "remove_todo(1)\n",
    "todos"
   ]
  },
  {
   "cell_type": "code",
   "execution_count": 3,
   "metadata": {},
   "outputs": [],
   "source": [
    "add_todo('read')\n",
    "add_todo('music class')"
   ]
  },
  {
   "cell_type": "code",
   "execution_count": 4,
   "metadata": {},
   "outputs": [
    {
     "data": {
      "text/plain": [
       "{2: 'take bath', 3: 'code', 4: 'sleep', 5: 'read', 6: 'music class'}"
      ]
     },
     "execution_count": 4,
     "metadata": {},
     "output_type": "execute_result"
    }
   ],
   "source": [
    "todos"
   ]
  },
  {
   "cell_type": "code",
   "execution_count": 5,
   "metadata": {},
   "outputs": [
    {
     "data": {
      "text/plain": [
       "{2: 'take bath', 3: 'code', 4: 'sleep', 5: 'read'}"
      ]
     },
     "execution_count": 5,
     "metadata": {},
     "output_type": "execute_result"
    }
   ],
   "source": [
    "remove_todo(6)\n",
    "todos"
   ]
  },
  {
   "cell_type": "code",
   "execution_count": 7,
   "metadata": {},
   "outputs": [
    {
     "name": "stdout",
     "output_type": "stream",
     "text": [
      "2 take bath\n",
      "3 code\n",
      "4 sleep\n",
      "5 read\n"
     ]
    }
   ],
   "source": [
    "for id, text in todos.items():\n",
    "  print(id, text)"
   ]
  },
  {
   "cell_type": "code",
   "execution_count": 8,
   "metadata": {},
   "outputs": [
    {
     "name": "stdout",
     "output_type": "stream",
     "text": [
      "5 read\n",
      "4 sleep\n",
      "3 code\n",
      "2 take bath\n"
     ]
    }
   ],
   "source": [
    "for id, text in reversed(todos.items()):\n",
    "  print(id, text)"
   ]
  },
  {
   "cell_type": "code",
   "execution_count": 13,
   "metadata": {},
   "outputs": [
    {
     "data": {
      "text/plain": [
       "[(2, 'take bath'), (3, 'code'), (4, 'sleep'), (5, 'read')]"
      ]
     },
     "execution_count": 13,
     "metadata": {},
     "output_type": "execute_result"
    },
    {
     "data": {
      "text/plain": [
       "[(5, 'read'), (4, 'sleep'), (3, 'code'), (2, 'take bath')]"
      ]
     },
     "execution_count": 13,
     "metadata": {},
     "output_type": "execute_result"
    }
   ],
   "source": [
    "list(todos.items())\n",
    "list(reversed(todos.items()))"
   ]
  }
 ],
 "metadata": {
  "kernelspec": {
   "display_name": "Python 3",
   "language": "python",
   "name": "python3"
  },
  "language_info": {
   "codemirror_mode": {
    "name": "ipython",
    "version": 3
   },
   "file_extension": ".py",
   "mimetype": "text/x-python",
   "name": "python",
   "nbconvert_exporter": "python",
   "pygments_lexer": "ipython3",
   "version": "3.12.6"
  }
 },
 "nbformat": 4,
 "nbformat_minor": 2
}
