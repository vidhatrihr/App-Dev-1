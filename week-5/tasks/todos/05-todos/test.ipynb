{
 "cells": [
  {
   "cell_type": "code",
   "execution_count": 9,
   "metadata": {},
   "outputs": [],
   "source": [
    "class TodoItem:\n",
    "  last_idx = 1\n",
    "\n",
    "  def __init__(self, text):\n",
    "    self.id = TodoItem.last_idx\n",
    "    TodoItem.last_idx += 1\n",
    "\n",
    "    self.text = text\n",
    "    self.status = 'pending'\n",
    "\n",
    "  def __repr__(self):\n",
    "    return f'TodoItem {self.id}: {self.text}'"
   ]
  },
  {
   "cell_type": "code",
   "execution_count": 10,
   "metadata": {},
   "outputs": [
    {
     "data": {
      "text/plain": [
       "TodoItem 2: drink water"
      ]
     },
     "execution_count": 10,
     "metadata": {},
     "output_type": "execute_result"
    }
   ],
   "source": [
    "todos = {\n",
    "    1: TodoItem('eat cake'),\n",
    "    2: TodoItem('drink water')\n",
    "}\n",
    "\n",
    "todos[2]"
   ]
  },
  {
   "cell_type": "code",
   "execution_count": 13,
   "metadata": {},
   "outputs": [
    {
     "name": "stdout",
     "output_type": "stream",
     "text": [
      "2 TodoItem 2: drink water\n",
      "1 TodoItem 1: eat cake\n"
     ]
    }
   ],
   "source": [
    "something = reversed(todos.items())\n",
    "for id, todo_item in something:\n",
    "  print(id, todo_item)"
   ]
  }
 ],
 "metadata": {
  "kernelspec": {
   "display_name": "Python 3",
   "language": "python",
   "name": "python3"
  },
  "language_info": {
   "codemirror_mode": {
    "name": "ipython",
    "version": 3
   },
   "file_extension": ".py",
   "mimetype": "text/x-python",
   "name": "python",
   "nbconvert_exporter": "python",
   "pygments_lexer": "ipython3",
   "version": "3.12.6"
  }
 },
 "nbformat": 4,
 "nbformat_minor": 2
}
