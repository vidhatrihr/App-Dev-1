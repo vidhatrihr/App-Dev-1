{
 "cells": [
  {
   "cell_type": "code",
   "execution_count": 34,
   "metadata": {},
   "outputs": [
    {
     "data": {
      "text/plain": [
       "{1: <Student vidu>, 2: <Student rahul>}"
      ]
     },
     "execution_count": 34,
     "metadata": {},
     "output_type": "execute_result"
    }
   ],
   "source": [
    "class Student:\n",
    "  _idx = 1\n",
    "\n",
    "  def __init__(self, name, place, age):\n",
    "    self.id = Student._idx\n",
    "    Student._idx += 1\n",
    "\n",
    "    self.name = name\n",
    "    self.place = place\n",
    "    self.age = age\n",
    "\n",
    "  def __repr__(self):\n",
    "    return f'<Student {self.name}>'\n",
    "\n",
    "\n",
    "students = {}\n",
    "\n",
    "\n",
    "def add_student(student):\n",
    "  students[student.id] = student\n",
    "\n",
    "\n",
    "add_student(Student('vidu', 'hbh', 21))\n",
    "add_student(Student('rahul', 'albd', 23))\n",
    "students"
   ]
  },
  {
   "cell_type": "code",
   "execution_count": 32,
   "metadata": {},
   "outputs": [
    {
     "data": {
      "text/plain": [
       "{1: <Course maths1>, 2: <Course stats>}"
      ]
     },
     "execution_count": 32,
     "metadata": {},
     "output_type": "execute_result"
    }
   ],
   "source": [
    "class Course:\n",
    "  _idx = 1\n",
    "\n",
    "  def __init__(self, name, credits):\n",
    "    self.id = Course._idx\n",
    "    Course._idx += 1\n",
    "\n",
    "    self.name = name\n",
    "    self.credits = credits\n",
    "\n",
    "  def __repr__(self):\n",
    "    return f'<Course {self.name}>'\n",
    "\n",
    "\n",
    "courses = {}\n",
    "\n",
    "\n",
    "def add_course(course):\n",
    "  courses[course.id] = course\n",
    "\n",
    "\n",
    "add_course(Course('maths1', 10))\n",
    "add_course(Course('stats', 20))\n",
    "courses"
   ]
  },
  {
   "cell_type": "code",
   "execution_count": 36,
   "metadata": {},
   "outputs": [
    {
     "data": {
      "text/plain": [
       "{1: <Enroll 1 1>, 2: <Enroll 2 2>}"
      ]
     },
     "execution_count": 36,
     "metadata": {},
     "output_type": "execute_result"
    }
   ],
   "source": [
    "class Enroll:\n",
    "  _idx = 1\n",
    "\n",
    "  def __init__(self, student_id, course_id, term, year):\n",
    "    self.id = Enroll._idx\n",
    "    Enroll._idx += 1\n",
    "\n",
    "    self.student_id = student_id\n",
    "    self.course_id = course_id\n",
    "    self.term = term\n",
    "    self.year = year\n",
    "\n",
    "  def __repr__(self):\n",
    "    return f'<Enroll {self.student_id} {self.course_id}>'\n",
    "\n",
    "\n",
    "enrolls = {}\n",
    "\n",
    "\n",
    "def add_enroll(enroll):\n",
    "  enrolls[enroll.id] = enroll\n",
    "\n",
    "\n",
    "add_enroll(Enroll(student_id=1, course_id=1, term='T3', year=2023))\n",
    "add_enroll(Enroll(student_id=2, course_id=2, term='T2', year=2023))\n",
    "enrolls"
   ]
  },
  {
   "cell_type": "code",
   "execution_count": 54,
   "metadata": {},
   "outputs": [
    {
     "name": "stdout",
     "output_type": "stream",
     "text": [
      "hbh 10\n",
      "albd 20\n"
     ]
    }
   ],
   "source": [
    "for enroll in enrolls.values():\n",
    "  print(students[enroll.student_id].place, courses[enroll.course_id].credits)"
   ]
  },
  {
   "cell_type": "code",
   "execution_count": 49,
   "metadata": {},
   "outputs": [
    {
     "data": {
      "text/plain": [
       "'vidu'"
      ]
     },
     "execution_count": 49,
     "metadata": {},
     "output_type": "execute_result"
    },
    {
     "data": {
      "text/plain": [
       "'maths1'"
      ]
     },
     "execution_count": 49,
     "metadata": {},
     "output_type": "execute_result"
    },
    {
     "data": {
      "text/plain": [
       "10"
      ]
     },
     "execution_count": 49,
     "metadata": {},
     "output_type": "execute_result"
    }
   ],
   "source": [
    "students[enrolls[1].student_id].name\n",
    "courses[enrolls[1].course_id].name\n",
    "courses[enrolls[1].course_id].credits"
   ]
  },
  {
   "cell_type": "code",
   "execution_count": 39,
   "metadata": {},
   "outputs": [
    {
     "name": "stdout",
     "output_type": "stream",
     "text": [
      "vidu from hbh\n",
      "rahul from albd\n"
     ]
    }
   ],
   "source": [
    "for student in students.values():\n",
    "  print(f'{student.name} from {student.place}')"
   ]
  },
  {
   "cell_type": "code",
   "execution_count": 40,
   "metadata": {},
   "outputs": [
    {
     "name": "stdout",
     "output_type": "stream",
     "text": [
      "1\n",
      "2\n"
     ]
    }
   ],
   "source": [
    "for id in students:\n",
    "  print(id)"
   ]
  },
  {
   "cell_type": "code",
   "execution_count": 42,
   "metadata": {},
   "outputs": [
    {
     "name": "stdout",
     "output_type": "stream",
     "text": [
      "student 1 is vidu\n",
      "student 2 is rahul\n"
     ]
    }
   ],
   "source": [
    "for id, student in students.items():\n",
    "  print(f'student {id} is {student.name}')"
   ]
  }
 ],
 "metadata": {
  "kernelspec": {
   "display_name": "Python 3",
   "language": "python",
   "name": "python3"
  },
  "language_info": {
   "codemirror_mode": {
    "name": "ipython",
    "version": 3
   },
   "file_extension": ".py",
   "mimetype": "text/x-python",
   "name": "python",
   "nbconvert_exporter": "python",
   "pygments_lexer": "ipython3",
   "version": "3.12.6"
  }
 },
 "nbformat": 4,
 "nbformat_minor": 2
}
