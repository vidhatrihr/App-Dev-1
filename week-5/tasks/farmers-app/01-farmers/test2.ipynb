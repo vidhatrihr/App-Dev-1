{
 "cells": [
  {
   "cell_type": "code",
   "execution_count": 7,
   "metadata": {},
   "outputs": [],
   "source": [
    "class Product:\n",
    "  _idx = 1\n",
    "\n",
    "  def __init__(self, name, type):\n",
    "    self.id = Product._idx\n",
    "    Product._idx += 1\n",
    "\n",
    "    self.name = name\n",
    "    self.type = type\n",
    "\n",
    "  def __repr__(self):\n",
    "    return f'<Product {self.name}>'\n",
    "\n",
    "\n",
    "class Stock:\n",
    "  _idx = 1\n",
    "\n",
    "  def __init__(self, product_id, qty, price, expiry):\n",
    "    self.id = Stock._idx\n",
    "    Stock._idx += 1\n",
    "\n",
    "    self.product_id = product_id\n",
    "    self.qty = qty\n",
    "    self.price = price\n",
    "    self.expiry = expiry\n",
    "\n",
    "  def __repr__(self):\n",
    "    return f'<Stock {self.product_id}>'"
   ]
  },
  {
   "cell_type": "code",
   "execution_count": 8,
   "metadata": {},
   "outputs": [],
   "source": [
    "products = {\n",
    "    1: Product('milk', 'dairy'),\n",
    "    2: Product('apple', 'fruit'),\n",
    "    3: Product('honey', 'others')\n",
    "}\n",
    "\n",
    "stocks = {\n",
    "    1: Stock(product_id=1, qty=3, price=40, expiry=2),\n",
    "    2: Stock(product_id=2, qty=4, price=200, expiry=10),\n",
    "    3: Stock(product_id=3, qty=5, price=500, expiry=1000)\n",
    "}"
   ]
  },
  {
   "cell_type": "code",
   "execution_count": 9,
   "metadata": {},
   "outputs": [
    {
     "data": {
      "text/plain": [
       "{1: <Product milk>,\n",
       " 2: <Product apple>,\n",
       " 3: <Product honey>,\n",
       " 4: <Product kiwi>,\n",
       " 5: <Product mango>}"
      ]
     },
     "execution_count": 9,
     "metadata": {},
     "output_type": "execute_result"
    }
   ],
   "source": [
    "def add_product(product):\n",
    "  products[product.id] = product\n",
    "\n",
    "\n",
    "add_product(Product('kiwi', 'fruit'))\n",
    "add_product(Product('mango', 'fruit'))\n",
    "products"
   ]
  },
  {
   "cell_type": "code",
   "execution_count": 10,
   "metadata": {},
   "outputs": [
    {
     "data": {
      "text/plain": [
       "{1: <Stock 1>, 2: <Stock 2>, 3: <Stock 3>, 4: <Stock 2>}"
      ]
     },
     "execution_count": 10,
     "metadata": {},
     "output_type": "execute_result"
    }
   ],
   "source": [
    "def add_stock(stock):\n",
    "  stocks[stock.id] = stock\n",
    "\n",
    "\n",
    "add_stock(Stock(product_id=2, qty=20, price=200, expiry=30))\n",
    "stocks"
   ]
  }
 ],
 "metadata": {
  "kernelspec": {
   "display_name": "Python 3",
   "language": "python",
   "name": "python3"
  },
  "language_info": {
   "codemirror_mode": {
    "name": "ipython",
    "version": 3
   },
   "file_extension": ".py",
   "mimetype": "text/x-python",
   "name": "python",
   "nbconvert_exporter": "python",
   "pygments_lexer": "ipython3",
   "version": "3.12.6"
  }
 },
 "nbformat": 4,
 "nbformat_minor": 2
}
