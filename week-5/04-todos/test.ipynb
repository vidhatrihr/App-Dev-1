{
 "cells": [
  {
   "cell_type": "code",
   "execution_count": 3,
   "metadata": {},
   "outputs": [
    {
     "data": {
      "text/plain": [
       "{1: {'text': 'eat dosa', 'status': 'done'},\n",
       " 3: {'text': 'drink juice', 'status': 'pending'}}"
      ]
     },
     "execution_count": 3,
     "metadata": {},
     "output_type": "execute_result"
    }
   ],
   "source": [
    "todos = {\n",
    "    1: {'text': 'eat dosa', 'status': 'pending'},\n",
    "    2: {'text': 'drink water',  'status': 'pending'}\n",
    "}\n",
    "\n",
    "todos[3] = {'text': 'drink juice',  'status': 'pending'}\n",
    "del todos[2]\n",
    "todos[1]['status'] = 'done'\n",
    "todos"
   ]
  },
  {
   "cell_type": "code",
   "execution_count": 5,
   "metadata": {},
   "outputs": [
    {
     "data": {
      "text/plain": [
       "'pending'"
      ]
     },
     "execution_count": 5,
     "metadata": {},
     "output_type": "execute_result"
    },
    {
     "data": {
      "text/plain": [
       "'drink juice'"
      ]
     },
     "execution_count": 5,
     "metadata": {},
     "output_type": "execute_result"
    }
   ],
   "source": [
    "todos[3]['status']\n",
    "todos[3]['text']"
   ]
  },
  {
   "cell_type": "code",
   "execution_count": 15,
   "metadata": {},
   "outputs": [
    {
     "data": {
      "text/plain": [
       "{1: {'text': 'learn flask', 'status': 'pending'}}"
      ]
     },
     "execution_count": 15,
     "metadata": {},
     "output_type": "execute_result"
    }
   ],
   "source": [
    "todos = {}\n",
    "last_id = 1\n",
    "\n",
    "\n",
    "def add_todo(text):\n",
    "  global last_id\n",
    "  todos[last_id] = {'text': text, 'status': 'pending'}\n",
    "  last_id += 1\n",
    "\n",
    "\n",
    "def mark_done(id):\n",
    "  if id in todos:\n",
    "    todos[id]['status'] = 'done'\n",
    "\n",
    "\n",
    "def remove_todo(id):\n",
    "  if id in todos:\n",
    "    del todos[id]\n",
    "\n",
    "\n",
    "add_todo('learn flask')\n",
    "add_todo('Make todo app')\n",
    "mark_done(2)\n",
    "remove_todo(2\n",
    "todos"
   ]
  }
 ],
 "metadata": {
  "kernelspec": {
   "display_name": "Python 3",
   "language": "python",
   "name": "python3"
  },
  "language_info": {
   "codemirror_mode": {
    "name": "ipython",
    "version": 3
   },
   "file_extension": ".py",
   "mimetype": "text/x-python",
   "name": "python",
   "nbconvert_exporter": "python",
   "pygments_lexer": "ipython3",
   "version": "3.12.6"
  }
 },
 "nbformat": 4,
 "nbformat_minor": 2
}
