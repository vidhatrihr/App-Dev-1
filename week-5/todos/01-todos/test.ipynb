{
 "cells": [
  {
   "cell_type": "code",
   "execution_count": 7,
   "metadata": {},
   "outputs": [
    {
     "data": {
      "text/plain": [
       "['drink water', 'sql alchemy']"
      ]
     },
     "execution_count": 7,
     "metadata": {},
     "output_type": "execute_result"
    }
   ],
   "source": [
    "todos = []\n",
    "\n",
    "\n",
    "def add_todo(text):\n",
    "  todos.append(text)\n",
    "\n",
    "\n",
    "def remove_todo(text):\n",
    "  todos.remove(text)\n",
    "\n",
    "\n",
    "add_todo('drink water')\n",
    "add_todo('flask')\n",
    "add_todo('CRUD')\n",
    "add_todo('sql alchemy')\n",
    "remove_todo('flask')\n",
    "remove_todo('CRUD')\n",
    "todos"
   ]
  }
 ],
 "metadata": {
  "kernelspec": {
   "display_name": "Python 3",
   "language": "python",
   "name": "python3"
  },
  "language_info": {
   "codemirror_mode": {
    "name": "ipython",
    "version": 3
   },
   "file_extension": ".py",
   "mimetype": "text/x-python",
   "name": "python",
   "nbconvert_exporter": "python",
   "pygments_lexer": "ipython3",
   "version": "3.12.6"
  }
 },
 "nbformat": 4,
 "nbformat_minor": 2
}
