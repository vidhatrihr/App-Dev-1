{
 "cells": [
  {
   "cell_type": "markdown",
   "metadata": {},
   "source": [
    "# recall friends"
   ]
  },
  {
   "cell_type": "code",
   "execution_count": 1,
   "metadata": {},
   "outputs": [
    {
     "data": {
      "text/plain": [
       "[['Vidu', 'hbh', 21], ['vishnu', 'hbh', 13]]"
      ]
     },
     "execution_count": 1,
     "metadata": {},
     "output_type": "execute_result"
    }
   ],
   "source": [
    "friends = [\n",
    "    ['Vidu', 'hbh', 21],\n",
    "    ['rahul', 'albd', 23],\n",
    "    ['vishnu', 'hbh', 13]\n",
    "]\n",
    "\n",
    "friends = [row for row in friends if row[1] == 'hbh']\n",
    "friends"
   ]
  },
  {
   "cell_type": "markdown",
   "metadata": {},
   "source": [
    "# Filter todos based on status"
   ]
  },
  {
   "cell_type": "code",
   "execution_count": 2,
   "metadata": {},
   "outputs": [],
   "source": [
    "from models import TodoItem\n",
    "\n",
    "todos = {\n",
    "    1: TodoItem('drink water'),\n",
    "    2: TodoItem('read a book'),\n",
    "    3: TodoItem('write email'),\n",
    "    4: TodoItem('learn flask'),\n",
    "}"
   ]
  },
  {
   "cell_type": "code",
   "execution_count": 4,
   "metadata": {},
   "outputs": [
    {
     "data": {
      "text/plain": [
       "{1: TodoItem 1 pending: drink water,\n",
       " 2: TodoItem 2 pending: read a book,\n",
       " 3: TodoItem 3 pending: write email,\n",
       " 4: TodoItem 4 done: learn flask}"
      ]
     },
     "execution_count": 4,
     "metadata": {},
     "output_type": "execute_result"
    }
   ],
   "source": [
    "todos[4].status = 'done'\n",
    "todos"
   ]
  },
  {
   "cell_type": "code",
   "execution_count": 10,
   "metadata": {},
   "outputs": [
    {
     "data": {
      "text/plain": [
       "[(1, TodoItem 1 pending: drink water),\n",
       " (2, TodoItem 2 pending: read a book),\n",
       " (3, TodoItem 3 pending: write email),\n",
       " (4, TodoItem 4 done: learn flask)]"
      ]
     },
     "execution_count": 10,
     "metadata": {},
     "output_type": "execute_result"
    },
    {
     "data": {
      "text/plain": [
       "[(4, TodoItem 4 done: learn flask)]"
      ]
     },
     "execution_count": 10,
     "metadata": {},
     "output_type": "execute_result"
    },
    {
     "data": {
      "text/plain": [
       "[(1, TodoItem 1 pending: drink water),\n",
       " (2, TodoItem 2 pending: read a book),\n",
       " (3, TodoItem 3 pending: write email)]"
      ]
     },
     "execution_count": 10,
     "metadata": {},
     "output_type": "execute_result"
    }
   ],
   "source": [
    "[(id, todo_item) for id, todo_item in todos.items()]\n",
    "[(id, todo_item) for id, todo_item in todos.items() if todo_item.status == 'done']\n",
    "[(id, todo_item) for id, todo_item in todos.items() if todo_item.status == 'pending']"
   ]
  }
 ],
 "metadata": {
  "kernelspec": {
   "display_name": "Python 3",
   "language": "python",
   "name": "python3"
  },
  "language_info": {
   "codemirror_mode": {
    "name": "ipython",
    "version": 3
   },
   "file_extension": ".py",
   "mimetype": "text/x-python",
   "name": "python",
   "nbconvert_exporter": "python",
   "pygments_lexer": "ipython3",
   "version": "3.12.6"
  }
 },
 "nbformat": 4,
 "nbformat_minor": 2
}
