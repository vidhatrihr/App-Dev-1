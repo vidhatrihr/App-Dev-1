{
 "cells": [
  {
   "cell_type": "code",
   "execution_count": 36,
   "metadata": {},
   "outputs": [],
   "source": [
    "from sqlalchemy import Column, Integer, String, ForeignKey, create_engine\n",
    "from sqlalchemy.orm import sessionmaker, declarative_base, relationship"
   ]
  },
  {
   "cell_type": "code",
   "execution_count": null,
   "metadata": {},
   "outputs": [],
   "source": [
    "Base = declarative_base()"
   ]
  },
  {
   "cell_type": "code",
   "execution_count": 38,
   "metadata": {},
   "outputs": [],
   "source": [
    "class Student(Base):\n",
    "  __tablename__ = 'students'\n",
    "  id = Column(Integer, primary_key=True)\n",
    "  name = Column(String)\n",
    "  place = Column(String)\n",
    "  age = Column(Integer)\n",
    "\n",
    "  def __repr__(self):\n",
    "    return f'<Student {self.name}>'\n",
    "\n",
    "  courses = relationship('Course', secondary='enrolls',\n",
    "                         back_populates='students')"
   ]
  },
  {
   "cell_type": "code",
   "execution_count": 39,
   "metadata": {},
   "outputs": [],
   "source": [
    "class Course(Base):\n",
    "  __tablename__ = 'courses'\n",
    "  id = Column(Integer, primary_key=True)\n",
    "  name = Column(String)\n",
    "  credits = Column(Integer)\n",
    "\n",
    "  def __repr__(self):\n",
    "    return f'<Course {self.name}>'\n",
    "\n",
    "  students = relationship('Student', secondary='enrolls',\n",
    "                          back_populates='courses')"
   ]
  },
  {
   "cell_type": "code",
   "execution_count": 40,
   "metadata": {},
   "outputs": [],
   "source": [
    "class Enroll(Base):\n",
    "  __tablename__ = 'enrolls'\n",
    "  id = Column(Integer, primary_key=True)\n",
    "\n",
    "  student_id = Column(Integer, ForeignKey('students.id'))\n",
    "  course_id = Column(Integer, ForeignKey('courses.id'))\n",
    "  term = Column(String)\n",
    "  year = Column(Integer)\n",
    "\n",
    "  def __repr__(self):\n",
    "    return f'<Enroll {self.student_id} {self.course_id}>'"
   ]
  },
  {
   "cell_type": "code",
   "execution_count": 41,
   "metadata": {},
   "outputs": [],
   "source": [
    "engine = create_engine('sqlite:///:memory:')\n",
    "Base.metadata.create_all(engine)"
   ]
  },
  {
   "cell_type": "markdown",
   "metadata": {},
   "source": [
    "# Query and Insert"
   ]
  },
  {
   "cell_type": "code",
   "execution_count": 42,
   "metadata": {},
   "outputs": [],
   "source": [
    "Session = sessionmaker(bind=engine)\n",
    "session = Session()"
   ]
  },
  {
   "cell_type": "code",
   "execution_count": 43,
   "metadata": {},
   "outputs": [],
   "source": [
    "session.add(Student(name='rahul', place='albd', age=23))\n",
    "session.add(Student(name='cmd', place='albd', age=24))\n",
    "session.add(Student(name='vidu', place='hbh', age=21))\n",
    "session.add(Course(name='mad1', credits=10))\n",
    "session.add(Course(name='dbms', credits=10))\n",
    "session.commit()"
   ]
  },
  {
   "cell_type": "code",
   "execution_count": 44,
   "metadata": {},
   "outputs": [],
   "source": [
    "session.add(Enroll(student_id=2, course_id=2, term='T1', year=2024))\n",
    "session.add(Enroll(student_id=2, course_id=2, term='T3', year=2024))\n",
    "session.add(Enroll(student_id=1, course_id=1, term='T2', year=2024))\n",
    "session.commit()"
   ]
  },
  {
   "cell_type": "code",
   "execution_count": 45,
   "metadata": {},
   "outputs": [
    {
     "data": {
      "text/plain": [
       "[<Student rahul>, <Student cmd>, <Student vidu>]"
      ]
     },
     "execution_count": 45,
     "metadata": {},
     "output_type": "execute_result"
    },
    {
     "data": {
      "text/plain": [
       "[<Course mad1>, <Course dbms>]"
      ]
     },
     "execution_count": 45,
     "metadata": {},
     "output_type": "execute_result"
    },
    {
     "data": {
      "text/plain": [
       "[<Enroll 2 2>, <Enroll 2 2>, <Enroll 1 1>]"
      ]
     },
     "execution_count": 45,
     "metadata": {},
     "output_type": "execute_result"
    }
   ],
   "source": [
    "session.query(Student).all()\n",
    "session.query(Course).all()\n",
    "session.query(Enroll).all()"
   ]
  },
  {
   "cell_type": "code",
   "execution_count": 49,
   "metadata": {},
   "outputs": [
    {
     "name": "stdout",
     "output_type": "stream",
     "text": [
      "cmd dbms\n",
      "cmd dbms\n",
      "rahul mad1\n"
     ]
    }
   ],
   "source": [
    "enrolls = session.query(Enroll).all()\n",
    "for enroll in enrolls:\n",
    "  student = session.query(Student).filter_by(id=enroll.student_id).first()\n",
    "  course = session.query(Course).filter_by(id=enroll.course_id).first()\n",
    "  print(student.name, course.name)"
   ]
  }
 ],
 "metadata": {
  "kernelspec": {
   "display_name": "Python 3",
   "language": "python",
   "name": "python3"
  },
  "language_info": {
   "codemirror_mode": {
    "name": "ipython",
    "version": 3
   },
   "file_extension": ".py",
   "mimetype": "text/x-python",
   "name": "python",
   "nbconvert_exporter": "python",
   "pygments_lexer": "ipython3",
   "version": "3.12.6"
  }
 },
 "nbformat": 4,
 "nbformat_minor": 2
}
