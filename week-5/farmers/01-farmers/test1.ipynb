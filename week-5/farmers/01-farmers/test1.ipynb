{
 "cells": [
  {
   "cell_type": "markdown",
   "metadata": {},
   "source": [
    "# Planning (rough)\n",
    "\n",
    "`stock` = { vegetable : { `quantity` : in kg , `price` : in rs, `expiry`: in days}}\n",
    "\n",
    "```python\n",
    "stock = {\n",
    "  'potato': {'quantity':20, 'price': 50, 'expiry': 5}\n",
    "}\n",
    "```\n"
   ]
  },
  {
   "cell_type": "code",
   "execution_count": 27,
   "metadata": {},
   "outputs": [
    {
     "data": {
      "text/plain": [
       "'potato'"
      ]
     },
     "execution_count": 27,
     "metadata": {},
     "output_type": "execute_result"
    }
   ],
   "source": [
    "class Product:\n",
    "  _idx = 1\n",
    "\n",
    "  def __init__(self, name, type):\n",
    "    self.id = Product._idx\n",
    "    Product._idx += 1\n",
    "\n",
    "    self.name = name\n",
    "    self.type = type  # vegetable, dairy, fruit, nut, others\n",
    "\n",
    "  def __repr__(self):\n",
    "    return f'Product {self.id}: {self.name}, {self.type}'\n",
    "\n",
    "\n",
    "potato = Product('potato', type='vegetable')\n",
    "tomato = Product('tomato', type='vegetable')\n",
    "milk = Product('milk', type='dairy')\n",
    "honey = Product('honey', type='others')\n",
    "\n",
    "potato.name"
   ]
  },
  {
   "cell_type": "code",
   "execution_count": 22,
   "metadata": {},
   "outputs": [
    {
     "data": {
      "text/plain": [
       "(4, 20)"
      ]
     },
     "execution_count": 22,
     "metadata": {},
     "output_type": "execute_result"
    }
   ],
   "source": [
    "class Stock:\n",
    "  _idx = 1\n",
    "\n",
    "  def __init__(self, product_id, qty, price, expiry):\n",
    "    self.id = Stock._idx\n",
    "    Stock._idx += 1\n",
    "\n",
    "    self.product_id = product_id\n",
    "    self.qty = qty\n",
    "    self.price = price\n",
    "    self.expiry = expiry\n",
    "\n",
    "  def __repr__(self):\n",
    "    return f'<Stock {self.id}: {self.product_id}>'\n",
    "\n",
    "\n",
    "potato_stock1 = Stock(product_id=1, qty=5, price=20, expiry=20)\n",
    "potato_stock2 = Stock(product_id=1, qty=150, price=40, expiry=40)\n",
    "honey_stock = Stock(product_id=4, qty=20, price=50, expiry=500)\n",
    "honey_stock.product_id, honey_stock.qty"
   ]
  },
  {
   "cell_type": "code",
   "execution_count": 29,
   "metadata": {},
   "outputs": [
    {
     "data": {
      "text/plain": [
       "4"
      ]
     },
     "execution_count": 29,
     "metadata": {},
     "output_type": "execute_result"
    }
   ],
   "source": [
    "class Inventory:\n",
    "  def __init__(self):\n",
    "    self.storage = {}\n",
    "\n",
    "  def add_stock(self, stock):\n",
    "    self.storage[stock.id] = stock\n",
    "\n",
    "  def remove_stock(self, stock_id):\n",
    "    del self.storage[stock_id]\n",
    "\n",
    "\n",
    "inventory = Inventory()\n",
    "inventory.add_stock(potato_stock1)\n",
    "inventory.add_stock(potato_stock2)\n",
    "inventory.add_stock(honey_stock)\n",
    "inventory.storage[3].product_id"
   ]
  }
 ],
 "metadata": {
  "kernelspec": {
   "display_name": "Python 3",
   "language": "python",
   "name": "python3"
  },
  "language_info": {
   "codemirror_mode": {
    "name": "ipython",
    "version": 3
   },
   "file_extension": ".py",
   "mimetype": "text/x-python",
   "name": "python",
   "nbconvert_exporter": "python",
   "pygments_lexer": "ipython3",
   "version": "3.12.6"
  }
 },
 "nbformat": 4,
 "nbformat_minor": 2
}
