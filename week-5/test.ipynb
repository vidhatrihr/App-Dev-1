{
 "cells": [
  {
   "cell_type": "code",
   "execution_count": 22,
   "metadata": {},
   "outputs": [],
   "source": [
    "from datetime import datetime\n",
    "\n",
    "\n",
    "def show_time(what_to_dec):\n",
    "  def time_msg(name):\n",
    "    print(f'hey {name} time is {datetime.now()}')\n",
    "    what_to_dec(f'good {name.upper()}')\n",
    "  return time_msg"
   ]
  },
  {
   "cell_type": "code",
   "execution_count": 29,
   "metadata": {},
   "outputs": [
    {
     "name": "stdout",
     "output_type": "stream",
     "text": [
      "hey vidu time is 2024-11-03 23:02:03.540503\n",
      "Hello good VIDU\n",
      "hey vidu time is 2024-11-03 23:02:03.540503\n",
      "goodbye good VIDU\n"
     ]
    }
   ],
   "source": [
    "@show_time\n",
    "def greet(name):\n",
    "  print(f'Hello {name}')\n",
    "\n",
    "\n",
    "@show_time\n",
    "def bye(name):\n",
    "  print(f'goodbye {name}')\n",
    "\n",
    "\n",
    "# greet = show_time(greet)\n",
    "greet('vidu')\n",
    "\n",
    "# bye = show_time(bye)\n",
    "bye('vidu')"
   ]
  }
 ],
 "metadata": {
  "kernelspec": {
   "display_name": "Python 3",
   "language": "python",
   "name": "python3"
  },
  "language_info": {
   "codemirror_mode": {
    "name": "ipython",
    "version": 3
   },
   "file_extension": ".py",
   "mimetype": "text/x-python",
   "name": "python",
   "nbconvert_exporter": "python",
   "pygments_lexer": "ipython3",
   "version": "3.12.6"
  }
 },
 "nbformat": 4,
 "nbformat_minor": 2
}
