{
 "cells": [
  {
   "cell_type": "code",
   "execution_count": 28,
   "metadata": {},
   "outputs": [],
   "source": [
    "from sqlalchemy import Column, String, Integer, ForeignKey, create_engine\n",
    "from sqlalchemy.orm import declarative_base, sessionmaker"
   ]
  },
  {
   "cell_type": "markdown",
   "metadata": {},
   "source": [
    "# Make classes\n"
   ]
  },
  {
   "cell_type": "code",
   "execution_count": 29,
   "metadata": {},
   "outputs": [],
   "source": [
    "Base = declarative_base()"
   ]
  },
  {
   "cell_type": "code",
   "execution_count": 30,
   "metadata": {},
   "outputs": [],
   "source": [
    "class Student(Base):\n",
    "  __tablename__ = 'student'\n",
    "\n",
    "  student_id = Column(Integer, primary_key=True, autoincrement=True)\n",
    "  roll_number = Column(String, unique=True, nullable=False)\n",
    "  first_name = Column(String, nullable=False)\n",
    "  last_name = Column(String)\n",
    "\n",
    "  def __repr__(self):\n",
    "    return f'<Student {self.first_name}>'"
   ]
  },
  {
   "cell_type": "code",
   "execution_count": 31,
   "metadata": {},
   "outputs": [],
   "source": [
    "class Course(Base):\n",
    "  __tablename__ = 'course'\n",
    "\n",
    "  course_id = Column(Integer, primary_key=True, autoincrement=True)\n",
    "  course_code = Column(String, nullable=False, unique=True)\n",
    "  course_name = Column(String, nullable=False)\n",
    "  course_description = Column(String)\n",
    "\n",
    "  def __repr__(self):\n",
    "    return f'<Course {self.course_code}>'"
   ]
  },
  {
   "cell_type": "code",
   "execution_count": 32,
   "metadata": {},
   "outputs": [],
   "source": [
    "class Enroll(Base):\n",
    "  __tablename__ = 'enrollments'\n",
    "\n",
    "  enrollment_id = Column(Integer, primary_key=True, autoincrement=True)\n",
    "  estudent_id = Column(Integer, ForeignKey('student.student_id'), nullable=False)\n",
    "  ecourse_id = Column(Integer, ForeignKey('course.course_id'), nullable=False)\n",
    "\n",
    "  def __repr__(self):\n",
    "    return f'<Enroll {self.estudent_id} {self.ecourse_id}>'"
   ]
  },
  {
   "cell_type": "markdown",
   "metadata": {},
   "source": [
    "# Make engine and session"
   ]
  },
  {
   "cell_type": "code",
   "execution_count": 33,
   "metadata": {},
   "outputs": [],
   "source": [
    "engine = create_engine('sqlite:///:memory:')\n",
    "Base.metadata.create_all(engine)"
   ]
  },
  {
   "cell_type": "code",
   "execution_count": 34,
   "metadata": {},
   "outputs": [],
   "source": [
    "Session = sessionmaker(bind=engine)\n",
    "session = Session()"
   ]
  },
  {
   "cell_type": "markdown",
   "metadata": {},
   "source": [
    "# Populate data"
   ]
  },
  {
   "cell_type": "code",
   "execution_count": 35,
   "metadata": {},
   "outputs": [],
   "source": [
    "session.add(Course(course_code='CSE01', course_name='MAD 1', course_description='...'))\n",
    "session.add(Course(course_code='CSE02', course_name='DBMS', course_description='...'))\n",
    "session.add(Course(course_code='CSE03', course_name='PDSA', course_description='...'))\n",
    "session.add(Course(course_code='BST13', course_name='BDM', course_description='...'))\n",
    "session.commit()"
   ]
  },
  {
   "cell_type": "markdown",
   "metadata": {},
   "source": [
    "# query data"
   ]
  },
  {
   "cell_type": "code",
   "execution_count": 38,
   "metadata": {},
   "outputs": [
    {
     "data": {
      "text/plain": [
       "[<Course CSE01>, <Course CSE02>, <Course CSE03>, <Course BST13>]"
      ]
     },
     "execution_count": 38,
     "metadata": {},
     "output_type": "execute_result"
    }
   ],
   "source": [
    "session.query(Course).all()"
   ]
  }
 ],
 "metadata": {
  "kernelspec": {
   "display_name": "Python 3",
   "language": "python",
   "name": "python3"
  },
  "language_info": {
   "codemirror_mode": {
    "name": "ipython",
    "version": 3
   },
   "file_extension": ".py",
   "mimetype": "text/x-python",
   "name": "python",
   "nbconvert_exporter": "python",
   "pygments_lexer": "ipython3",
   "version": "3.12.6"
  }
 },
 "nbformat": 4,
 "nbformat_minor": 2
}
