{
 "cells": [
  {
   "cell_type": "code",
   "execution_count": 1,
   "metadata": {},
   "outputs": [],
   "source": [
    "from models import *\n",
    "from app import create_app\n",
    "app = create_app()"
   ]
  },
  {
   "cell_type": "code",
   "execution_count": null,
   "metadata": {},
   "outputs": [
    {
     "data": {
      "text/plain": [
       "[<Course 1>, <Course 2>, <Course 3>]"
      ]
     },
     "execution_count": 20,
     "metadata": {},
     "output_type": "execute_result"
    },
    {
     "name": "stdout",
     "output_type": "stream",
     "text": [
      "Maths is taken by vidu\n",
      "Stats is taken by vidu\n",
      "PDSA is not taken by vidu\n"
     ]
    }
   ],
   "source": [
    "with app.app_context():\n",
    "  # final\n",
    "\n",
    "  all_courses = Course.query.all()\n",
    "  all_courses\n",
    "  vidu_enrolls = Enrollment.query.filter_by(student_id=1).all()\n",
    "  vidu_courses = [enroll.course for enroll in vidu_enrolls]\n",
    "\n",
    "  for course in all_courses:\n",
    "    if course in vidu_courses:\n",
    "      print(f'{course.name} is taken by vidu')\n",
    "    else:\n",
    "      print(f'{course.name} is NOT taken by vidu')"
   ]
  },
  {
   "cell_type": "code",
   "execution_count": 16,
   "metadata": {},
   "outputs": [
    {
     "data": {
      "text/plain": [
       "<Course 3>"
      ]
     },
     "execution_count": 16,
     "metadata": {},
     "output_type": "execute_result"
    },
    {
     "data": {
      "text/plain": [
       "[<Enrollment 1>, <Enrollment 2>]"
      ]
     },
     "execution_count": 16,
     "metadata": {},
     "output_type": "execute_result"
    },
    {
     "data": {
      "text/plain": [
       "[<Course 1>, <Course 2>]"
      ]
     },
     "execution_count": 16,
     "metadata": {},
     "output_type": "execute_result"
    },
    {
     "data": {
      "text/plain": [
       "False"
      ]
     },
     "execution_count": 16,
     "metadata": {},
     "output_type": "execute_result"
    },
    {
     "data": {
      "text/plain": [
       "True"
      ]
     },
     "execution_count": 16,
     "metadata": {},
     "output_type": "execute_result"
    }
   ],
   "source": [
    "with app.app_context():\n",
    "  vidu_enrolls = Enrollment.query.filter_by(student_id=1).all()\n",
    "  vidu_courses = [enroll.course for enroll in vidu_enrolls]\n",
    "  pdsa = Course.query.filter_by(name='PDSA').first()\n",
    "  maths = Course.query.filter_by(name='Maths').first()\n",
    "  pdsa\n",
    "  vidu_enrolls\n",
    "  vidu_courses\n",
    "  pdsa in vidu_courses\n",
    "  maths in vidu_courses"
   ]
  },
  {
   "cell_type": "code",
   "execution_count": 5,
   "metadata": {},
   "outputs": [
    {
     "data": {
      "text/plain": [
       "<Course 3>"
      ]
     },
     "execution_count": 5,
     "metadata": {},
     "output_type": "execute_result"
    },
    {
     "data": {
      "text/plain": [
       "[<Course 1>, <Course 2>, <Course 3>]"
      ]
     },
     "execution_count": 5,
     "metadata": {},
     "output_type": "execute_result"
    },
    {
     "data": {
      "text/plain": [
       "True"
      ]
     },
     "execution_count": 5,
     "metadata": {},
     "output_type": "execute_result"
    }
   ],
   "source": [
    "with app.app_context():\n",
    "  all_courses = Course.query.all()\n",
    "  pdsa = Course.query.filter_by(name='PDSA').first()\n",
    "  pdsa\n",
    "  all_courses\n",
    "  pdsa in all_courses"
   ]
  }
 ],
 "metadata": {
  "kernelspec": {
   "display_name": "Python 3",
   "language": "python",
   "name": "python3"
  },
  "language_info": {
   "codemirror_mode": {
    "name": "ipython",
    "version": 3
   },
   "file_extension": ".py",
   "mimetype": "text/x-python",
   "name": "python",
   "nbconvert_exporter": "python",
   "pygments_lexer": "ipython3",
   "version": "3.12.6"
  }
 },
 "nbformat": 4,
 "nbformat_minor": 2
}
